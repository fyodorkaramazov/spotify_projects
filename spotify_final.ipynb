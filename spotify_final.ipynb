{
 "cells": [
  {
   "cell_type": "markdown",
   "id": "bbace31a",
   "metadata": {},
   "source": [
    "# GROUP 16 - Assignment (Fundamentals of Machine Learning)"
   ]
  },
  {
   "cell_type": "markdown",
   "id": "55aecaf1",
   "metadata": {},
   "source": [
    "Team Members\n",
    "- Arsha Jimmy (202281102)\n",
    "- Lalith Balasubramanian (202254365)\n",
    "- Prashant Ronsa (202251507)\n",
    "- Reshma Sooraj (202268201)\n",
    "- Sidharth Warrier Sasthangal (202288220)\n",
    "- Vaisakh Constantine Francis (202252228)"
   ]
  },
  {
   "cell_type": "markdown",
   "id": "226a493a",
   "metadata": {},
   "source": [
    "# Kaggle Competition | CS986 Spotify Problem 2023 | Assignment"
   ]
  },
  {
   "cell_type": "markdown",
   "id": "1b667627",
   "metadata": {},
   "source": [
    "Music is an important part of human life because it serves as a tool for entertainment, relaxation, and communication. The introduction of digital music streaming platforms, particularly Spotify, has revolutionised the music industry in recent years, allowing music fans worldwide easy access to millions of songs."
   ]
  },
  {
   "cell_type": "markdown",
   "id": "45a5f68f",
   "metadata": {},
   "source": [
    "<h4> Objective of the report is to focus of the below mentioed two points"
   ]
  },
  {
   "cell_type": "markdown",
   "id": "af5d0332",
   "metadata": {},
   "source": [
    "1. Regression problem that aims to predict the popularity score of a song\n",
    "2. Classification problem that aims to predict the top genre that a song belongs to"
   ]
  },
  {
   "cell_type": "markdown",
   "id": "f2d9cbee",
   "metadata": {},
   "source": [
    "This Notebook will provide fundamental explanations of:\n",
    "\n",
    "- Data Handling\n",
    "- Machine learning Techniques such as: Linear Regression, PCA, Decision Tree, Random Forest, SVM, Naive Base\n",
    "- Libraries used: NumPy, Pandas, SciKit-Learn, Matplotlib, OneHotEncoder, OrdinalEncoder, RobustScaler, StandardScaler, Metrics, Seaborn, Scipy, Sklearn.decomposition"
   ]
  },
  {
   "cell_type": "markdown",
   "id": "c8a29b36",
   "metadata": {},
   "source": [
    "<h3> First problem statement - \"Regression Problem to predict the popularity score of a song\""
   ]
  },
  {
   "cell_type": "markdown",
   "id": "65d3ed46",
   "metadata": {},
   "source": [
    "Importing libraries required for the analysis & dataset csv file"
   ]
  },
  {
   "cell_type": "markdown",
   "id": "b234cbb5",
   "metadata": {},
   "source": [
    "To read the contents of the CS98XRegressionTrain.csv CSV file and create a DataFrame object named 'data' that contains the file's contents. The main goal in selecting song features was to consider all elements that comprise a song's personality and determine whether they have an impact on the target variable, which is popularity."
   ]
  },
  {
   "cell_type": "code",
   "execution_count": 1,
   "id": "76c608ce",
   "metadata": {},
   "outputs": [],
   "source": [
    "import numpy as np\n",
    "import pandas as pd\n",
    "import seaborn as sns\n",
    "import matplotlib.pyplot as plt\n",
    "from sklearn.preprocessing import OneHotEncoder,OrdinalEncoder,RobustScaler, StandardScaler\n",
    "from sklearn import metrics\n",
    "import seaborn as sns\n",
    "from scipy import stats\n",
    "from scipy.stats import norm, skew #for some statistics\n",
    "from sklearn.decomposition import PCA\n",
    "import warnings\n",
    "warnings.filterwarnings('ignore')"
   ]
  },
  {
   "cell_type": "code",
   "execution_count": 2,
   "id": "57d75ea4",
   "metadata": {},
   "outputs": [
    {
     "data": {
      "text/plain": [
       "(453, 15)"
      ]
     },
     "execution_count": 2,
     "metadata": {},
     "output_type": "execute_result"
    }
   ],
   "source": [
    "data = pd.read_csv(\"CS98XRegressionTrain.csv\")\n",
    "data.shape"
   ]
  },
  {
   "cell_type": "markdown",
   "id": "131b3f44",
   "metadata": {},
   "source": [
    "- From this we can gather that the data contains 15 columns (features) & 453 rows (tuples)"
   ]
  },
  {
   "cell_type": "markdown",
   "id": "edfecddd",
   "metadata": {},
   "source": [
    "<h4> Renaming 'popularity' column to 'pop'"
   ]
  },
  {
   "cell_type": "code",
   "execution_count": 3,
   "id": "d4b53586",
   "metadata": {},
   "outputs": [],
   "source": [
    "data.rename({'pop': 'popularity'}, axis=1, inplace=True)"
   ]
  },
  {
   "cell_type": "markdown",
   "id": "45788cfa",
   "metadata": {},
   "source": [
    "<h4> Checking if there are any duplicate & null values"
   ]
  },
  {
   "cell_type": "code",
   "execution_count": 4,
   "id": "d532e8c3",
   "metadata": {
    "scrolled": true
   },
   "outputs": [
    {
     "data": {
      "text/plain": [
       "0"
      ]
     },
     "execution_count": 4,
     "metadata": {},
     "output_type": "execute_result"
    }
   ],
   "source": [
    "data.duplicated().sum()\n",
    "# data.isnull().sum()"
   ]
  },
  {
   "cell_type": "markdown",
   "id": "d553186e",
   "metadata": {},
   "source": [
    "- Column 'top genre' has different genre information all songs & since there are null values in column, we're going to fill missing values with the string \"unassigned\""
   ]
  },
  {
   "cell_type": "code",
   "execution_count": 5,
   "id": "288e6cd8",
   "metadata": {},
   "outputs": [],
   "source": [
    "data['top genre'] = data['top genre'].fillna('unassigned')\n",
    "# data.isnull.sum()"
   ]
  },
  {
   "cell_type": "markdown",
   "id": "4aa9a0e9",
   "metadata": {},
   "source": [
    "- This tells that we don't have any null values now"
   ]
  },
  {
   "cell_type": "markdown",
   "id": "acf17a4c",
   "metadata": {},
   "source": [
    "<h2> Exploratory Data Analysis"
   ]
  },
  {
   "cell_type": "markdown",
   "id": "3e3fc237",
   "metadata": {},
   "source": [
    "Before moving on to prediction, first we will try to gather some information from that available data with some exploratory data analysis"
   ]
  },
  {
   "cell_type": "markdown",
   "id": "e79f153d",
   "metadata": {},
   "source": [
    "<h3> Checking the highest popularity score for the song"
   ]
  },
  {
   "cell_type": "code",
   "execution_count": 6,
   "id": "bb67ddd0",
   "metadata": {},
   "outputs": [],
   "source": [
    "pop_data = data.sort_values('popularity', ascending=False)\n",
    "# pop_data.head"
   ]
  },
  {
   "cell_type": "code",
   "execution_count": 7,
   "id": "c1765b03",
   "metadata": {},
   "outputs": [
    {
     "data": {
      "text/plain": [
       "<Figure size 432x432 with 0 Axes>"
      ]
     },
     "metadata": {},
     "output_type": "display_data"
    },
    {
     "data": {
      "image/png": "[encoded data removed]",
      "text/plain": [
       "<Figure size 360x360 with 1 Axes>"
      ]
     },
     "metadata": {
      "needs_background": "light"
     },
     "output_type": "display_data"
    }
   ],
   "source": [
    "plt.figure(figsize=(6,6))\n",
    "sns.displot(data['popularity'])\n",
    "plt.title('Popularity Distribution')\n",
    "plt.show()"
   ]
  },
  {
   "cell_type": "markdown",
   "id": "60ad1b98",
   "metadata": {},
   "source": [
    "- The above table provides information that the top popularity score for the songs in the dataset, with 'Bohemian Rhapsody - 2011 Mix' from the artist 'Queen' at a popularity score of 84, which is under the genre 'glam rock' originally released in the year 1975.\n",
    "- Followed by the artists such as Coldplay, TOTO with popularity score of 83 & The Beatles with popularity score of 82\n",
    "- Also, Queen has two songs with high popularity score of 84 & 82\n",
    "- The lowest popularity score for any artist in the dataset is 26"
   ]
  },
  {
   "cell_type": "markdown",
   "id": "f497ca0e",
   "metadata": {},
   "source": [
    "<h3> In order to predict the popularity score of a song, we're going to check the correlation of popularity with other features of the dataset"
   ]
  },
  {
   "cell_type": "markdown",
   "id": "c53b13ae",
   "metadata": {},
   "source": [
    "Checking Correlation will help us identify if there are any features that are responsible for influencing the popularity score of a song in this dataset\n",
    "\n",
    "Plotting a heatmap visualization of the correlation matrix for the DataFrame 'data'"
   ]
  },
  {
   "cell_type": "code",
   "execution_count": 8,
   "id": "8afa671d",
   "metadata": {
    "scrolled": false
   },
   "outputs": [
    {
     "data": {
      "text/plain": [
       "<AxesSubplot:>"
      ]
     },
     "execution_count": 8,
     "metadata": {},
     "output_type": "execute_result"
    },
    {
     "data": {
      "image/png": "[encoded data removed]",
      "text/plain": [
       "<Figure size 720x720 with 2 Axes>"
      ]
     },
     "metadata": {
      "needs_background": "light"
     },
     "output_type": "display_data"
    }
   ],
   "source": [
    "plt.figure(figsize=(10,10))\n",
    "sns.heatmap(data.corr(),annot=True,cmap='viridis')"
   ]
  },
  {
   "cell_type": "markdown",
   "id": "b74bb554",
   "metadata": {},
   "source": [
    "- The resulting visualisation depicts the correlations between all pairs of columns in the DataFrame, with brighter colours representing higher correlation values. Durability, dB, and nrgy were found to have a high correlation with target variable popularity.\n",
    "- The above matrix implies that there's 'live', 'val' 'year', 'acous', 'spch' & 'bpm have negative to low corelation to popularity therefore they can be removed"
   ]
  },
  {
   "cell_type": "markdown",
   "id": "a7959a10",
   "metadata": {},
   "source": [
    "<h2> Pre-processing and feature engineering"
   ]
  },
  {
   "cell_type": "code",
   "execution_count": 9,
   "id": "e491c6ca",
   "metadata": {
    "scrolled": true
   },
   "outputs": [],
   "source": [
    "#data.info()"
   ]
  },
  {
   "cell_type": "code",
   "execution_count": 10,
   "id": "fbf4c146",
   "metadata": {},
   "outputs": [],
   "source": [
    "data.drop(['Id','title'],axis=1,inplace=True)"
   ]
  },
  {
   "cell_type": "markdown",
   "id": "b0abbdea",
   "metadata": {},
   "source": [
    "<h3> Splitting of the genre column into sub-genres is a useful technique in the analysis of the DataFrame\n",
    "<h6> This allows us to analyze the data more effectively, build more accurate models, and make the data more consistent."
   ]
  },
  {
   "cell_type": "code",
   "execution_count": 11,
   "id": "b2934c5f",
   "metadata": {
    "scrolled": false
   },
   "outputs": [],
   "source": [
    "genre = (data[\"top genre\"].str.strip()).str.lower()\n",
    "gen = genre.str.split(\" \",0)\n",
    "new_genre = []\n",
    "for i in gen:\n",
    "    new_genre.append(i[-1])\n",
    "new_genre=np.array(new_genre)\n",
    "data['genre'] = new_genre.tolist()\n",
    "data.drop(columns=['top genre'],axis=1,inplace=True)"
   ]
  },
  {
   "cell_type": "markdown",
   "id": "0a0b358f",
   "metadata": {},
   "source": [
    "- Grouping infrequent genres in a DataFrame's 'genre' column into a single category called 'others'. This is accomplished by identifying all genres that appear less than three times in the column and replacing them with 'others'. This method has the potential to simplify the analysis of a dataset that contains a large number of infrequent categories in a column."
   ]
  },
  {
   "cell_type": "code",
   "execution_count": 12,
   "id": "92562af8",
   "metadata": {},
   "outputs": [],
   "source": [
    "v = data['genre'].value_counts()\n",
    "data.loc[data['genre'].isin(v[v<3].index), 'genre'] = 'others'"
   ]
  },
  {
   "cell_type": "markdown",
   "id": "1642322e",
   "metadata": {},
   "source": [
    "<h2> Feature Engineering"
   ]
  },
  {
   "cell_type": "markdown",
   "id": "f1cd2838",
   "metadata": {},
   "source": [
    "To calculate the mean values of the \"nrgy\", \"dnce\", \"dB\", \"acous\", and \"spch\" columns for each artist in thedataset and create new features in the dataset that contain the mapped mean values for each artist. This technique can be useful for feature engineering in machine learning models that predict song popularity orother metrics based on artist characteristics."
   ]
  },
  {
   "cell_type": "markdown",
   "id": "f8bf5c67",
   "metadata": {},
   "source": [
    "<h3> Transforming 'artist' column on the basis of value counts of artists"
   ]
  },
  {
   "cell_type": "code",
   "execution_count": 13,
   "id": "558fc29a",
   "metadata": {},
   "outputs": [],
   "source": [
    "count = data['artist'].value_counts()\n",
    "data['value_count'] = data['artist'].apply(lambda x: count[x])\n",
    "data['artist'] = data['value_count'].apply(lambda x: round(x/7,2))\n",
    "data.drop(columns=['value_count'],axis=1,inplace=True)"
   ]
  },
  {
   "cell_type": "markdown",
   "id": "af09ce4a",
   "metadata": {},
   "source": [
    "Transformation of these features using log2 in order to make data linear and improve correlation"
   ]
  },
  {
   "cell_type": "code",
   "execution_count": 14,
   "id": "f7b076f3",
   "metadata": {},
   "outputs": [],
   "source": [
    "data['dur'] = np.log2(data['dur'])\n",
    "data['nrgy'] = np.log2(data['nrgy'])\n",
    "data['bpm'] = np.log2(data['bpm'])\n",
    "# data.head"
   ]
  },
  {
   "cell_type": "markdown",
   "id": "ffebf520",
   "metadata": {},
   "source": [
    "<h3> Using StandardScaler to perform feature scaling on the selected columns in the data dataframe"
   ]
  },
  {
   "cell_type": "code",
   "execution_count": 15,
   "id": "3079a53c",
   "metadata": {},
   "outputs": [],
   "source": [
    "scl_attr = ['artist','year', 'bpm', 'nrgy', 'dnce', 'dB', 'live', 'val', 'dur',\n",
    "       'acous', 'spch']\n",
    "scaler = StandardScaler()\n",
    "std_df = scaler.fit(data[scl_attr])\n",
    "std_df_scaled = scaler.transform(data[scl_attr])\n",
    "data[scl_attr] = pd.DataFrame(std_df_scaled)"
   ]
  },
  {
   "cell_type": "markdown",
   "id": "61c0ee40",
   "metadata": {},
   "source": [
    "<h2> Transformation"
   ]
  },
  {
   "cell_type": "markdown",
   "id": "a7da6ef0",
   "metadata": {},
   "source": [
    "<h3> PCA (Principal Component Analysis)"
   ]
  },
  {
   "cell_type": "markdown",
   "id": "42d4afe3",
   "metadata": {},
   "source": [
    "The code performs PCA (Principal Component Analysis) on the selected features in the 'data' dataframe. Then_components parameter is set to 10, which means that the algorithm will reduce the dimensionality of the selected features to 10 principal components.\n",
    "\n",
    "\n",
    "By reducing the dimensionality of a dataset, PCA can help to simplify the data and make it easier to analyze. It can also beused to visualize high-dimensional data in a lower-dimensional space, as well as to remove noise and redundant information from a dataset."
   ]
  },
  {
   "cell_type": "code",
   "execution_count": 16,
   "id": "f81a2b44",
   "metadata": {},
   "outputs": [],
   "source": [
    "pca = PCA(n_components=5)\n",
    "x_pca = pca.fit_transform(data[scl_attr])"
   ]
  },
  {
   "cell_type": "code",
   "execution_count": 17,
   "id": "b4ef425e",
   "metadata": {},
   "outputs": [],
   "source": [
    "x_data = data[[]]"
   ]
  },
  {
   "cell_type": "code",
   "execution_count": 18,
   "id": "32743cba",
   "metadata": {},
   "outputs": [],
   "source": [
    "data = pd.concat([data[['popularity','genre']].reset_index(drop=True), pd.DataFrame(x_pca)], axis='columns')\n",
    "# data.head"
   ]
  },
  {
   "cell_type": "markdown",
   "id": "c5300cd9",
   "metadata": {},
   "source": [
    "<h2> Encoding"
   ]
  },
  {
   "cell_type": "markdown",
   "id": "1a2919b9",
   "metadata": {},
   "source": [
    "To perform one-hot encoding on the 'genre' column of DataFrame named 'data'\n",
    "    \n",
    "\n",
    "One-hot encoding is a process of converting categorical data into a binary representation that can be used for machine learning models"
   ]
  },
  {
   "cell_type": "code",
   "execution_count": 19,
   "id": "e5832b26",
   "metadata": {},
   "outputs": [],
   "source": [
    "oh = OneHotEncoder(handle_unknown='ignore')\n",
    "oh_genre = pd.DataFrame(oh.fit_transform(data[[\"genre\"]]).toarray())\n",
    "data = pd.concat([data.reset_index(drop=True), pd.DataFrame(oh_genre)], axis='columns')\n",
    "data.drop(columns='genre',inplace=True)"
   ]
  },
  {
   "cell_type": "markdown",
   "id": "8aa213bd",
   "metadata": {},
   "source": [
    "<h2> Seperation of features and target variables"
   ]
  },
  {
   "cell_type": "markdown",
   "id": "48e46a59",
   "metadata": {},
   "source": [
    "'x' contains all the input features for a machine learning model, while 'y' contains the corresponding target values that themodel will try to predict. This separation of features and target variables is a common approach in machine learning, and itallows us to train a model on a set of data and then use it to make predictions on new, unseen data."
   ]
  },
  {
   "cell_type": "code",
   "execution_count": 20,
   "id": "989eac05",
   "metadata": {},
   "outputs": [],
   "source": [
    "x= data.loc[:, data.columns != 'popularity']\n",
    "y = data[['popularity']]\n",
    "# x.head"
   ]
  },
  {
   "cell_type": "markdown",
   "id": "7531fb19",
   "metadata": {},
   "source": [
    "<h3> Linear Regression Model"
   ]
  },
  {
   "cell_type": "markdown",
   "id": "6145b493",
   "metadata": {},
   "source": [
    "To perform linear regression modeling using the scikit-learn library. The instance 'clf' will be used to train and make predictions using the linear regression model. Then the linear regression model is trained using the input features in 'x' and the target variable in 'y'."
   ]
  },
  {
   "cell_type": "code",
   "execution_count": 21,
   "id": "3380f525",
   "metadata": {},
   "outputs": [
    {
     "data": {
      "text/plain": [
       "LinearRegression()"
      ]
     },
     "execution_count": 21,
     "metadata": {},
     "output_type": "execute_result"
    }
   ],
   "source": [
    "from sklearn.linear_model import LinearRegression\n",
    "clf = LinearRegression()\n",
    "clf.fit(x,y)"
   ]
  },
  {
   "cell_type": "code",
   "execution_count": 22,
   "id": "fea4c790",
   "metadata": {},
   "outputs": [
    {
     "name": "stdout",
     "output_type": "stream",
     "text": [
      "0.43206351662283105\n"
     ]
    }
   ],
   "source": [
    "print(clf.score(x,y))"
   ]
  },
  {
   "cell_type": "code",
   "execution_count": 23,
   "id": "73af59da",
   "metadata": {},
   "outputs": [
    {
     "name": "stdout",
     "output_type": "stream",
     "text": [
      "10.14005399814071\n"
     ]
    }
   ],
   "source": [
    "y_train_pred = clf.predict(x)\n",
    "rmse = metrics.mean_squared_error(y, y_train_pred, squared=False)\n",
    "print(rmse)"
   ]
  },
  {
   "cell_type": "markdown",
   "id": "bbb03420",
   "metadata": {},
   "source": [
    "##### Mean absolute error "
   ]
  },
  {
   "cell_type": "code",
   "execution_count": 52,
   "id": "f2cb05d3",
   "metadata": {},
   "outputs": [
    {
     "data": {
      "text/plain": [
       "3.0975298013245034"
      ]
     },
     "execution_count": 52,
     "metadata": {},
     "output_type": "execute_result"
    }
   ],
   "source": [
    "from sklearn.metrics import mean_absolute_error\n",
    "\n",
    "lin_mae = mean_absolute_error(y,y_train_pred)\n",
    "lin_mae"
   ]
  },
  {
   "cell_type": "code",
   "execution_count": 24,
   "id": "caaeff5e",
   "metadata": {
    "scrolled": true
   },
   "outputs": [],
   "source": [
    "#clf.predict(x)"
   ]
  },
  {
   "cell_type": "markdown",
   "id": "16ebaee2",
   "metadata": {},
   "source": [
    "The calculated R-squared value measures how well the model fits the data, with a value of 1 indicating aperfect fit. Here the R-squared value so obtained is 0.4382\n",
    "\n",
    "The mean_squared_error() function from the sklearn.metrics module is used to calculate the mean squarederror, and the squared parameter is set to False to return the RMSE instead of the squared error. The soobtained RMSE is 10.0845\n",
    "\n",
    "Then the trained model is used to make predictions on the input features in 'x'. The predict() method of theLinearRegression class is used to make the predictions, and the resulting predictions are returned."
   ]
  },
  {
   "cell_type": "markdown",
   "id": "29e0d4b2",
   "metadata": {},
   "source": [
    "<h2> Decision Tree Regression"
   ]
  },
  {
   "cell_type": "markdown",
   "id": "58383c5f",
   "metadata": {},
   "source": [
    "This is done to create a Decision Tree Regressor model and fits it on input and output data, prints the R-squared value to evaluate the goodness of fit, makes predictions using the fitted model, calculates theRMSE to evaluate the prediction accuracy, and prints the RMSE value.\n",
    "    \n",
    "The Decision Tree Regressor model object is created with a random state of 0. The random state is used tomake the results reproducible.\n",
    "\n",
    "Then the Decision Tree Regressor model is made to fit on the input data x and output/target data y."
   ]
  },
  {
   "cell_type": "code",
   "execution_count": 25,
   "id": "1878b0c0",
   "metadata": {},
   "outputs": [
    {
     "data": {
      "text/plain": [
       "DecisionTreeRegressor(random_state=0)"
      ]
     },
     "execution_count": 25,
     "metadata": {},
     "output_type": "execute_result"
    }
   ],
   "source": [
    "from sklearn.tree import DecisionTreeRegressor \n",
    "# create a regressor object\n",
    "dtr = DecisionTreeRegressor(random_state = 0)\n",
    "# fit the regressor with X and Y data\n",
    "dtr.fit(x,y)"
   ]
  },
  {
   "cell_type": "code",
   "execution_count": 26,
   "id": "04f17d43",
   "metadata": {},
   "outputs": [
    {
     "name": "stdout",
     "output_type": "stream",
     "text": [
      "1.0\n"
     ]
    }
   ],
   "source": [
    "print(dtr.score(x,y))"
   ]
  },
  {
   "cell_type": "markdown",
   "id": "8c43cccb",
   "metadata": {},
   "source": [
    "The R-squared value of the Decision Tree Regressor model is generated. The R-squared value is a statisticalmeasure that represents the proportion of the variance in the dependent variable that is explained by theindependent variables in the model. A higher R-squared value indicates a better fit of the model. The Rsquared value obtained for the model is 1"
   ]
  },
  {
   "cell_type": "code",
   "execution_count": 27,
   "id": "604bfeea",
   "metadata": {},
   "outputs": [
    {
     "name": "stdout",
     "output_type": "stream",
     "text": [
      "0.0\n"
     ]
    }
   ],
   "source": [
    "y_train_pred = dtr.predict(x)\n",
    "rmse = metrics.mean_squared_error(y, y_train_pred, squared=False)\n",
    "print(rmse)"
   ]
  },
  {
   "cell_type": "markdown",
   "id": "77b9b83b",
   "metadata": {},
   "source": [
    "The root mean squared error (RMSE) between predicted and actual output values (y train pred) is calculated. The root mean square error (RMSE) is a popular metric for assessing the performance of regression models. It computes the average difference between predicted and observed values in the same units as the target variable.. Here the RMSE value obtained is 0."
   ]
  },
  {
   "cell_type": "markdown",
   "id": "66683333",
   "metadata": {},
   "source": [
    "<h2> Random Forest Regression"
   ]
  },
  {
   "cell_type": "code",
   "execution_count": 28,
   "id": "2a14faa5",
   "metadata": {
    "scrolled": true
   },
   "outputs": [],
   "source": [
    "from sklearn.ensemble import RandomForestRegressor\n",
    "# Instantiate model with 1000 decision trees\n",
    "rf = RandomForestRegressor(n_estimators = 1000, random_state = 42)\n",
    "# Train the model on training data\n",
    "rf.fit(x,y);"
   ]
  },
  {
   "cell_type": "markdown",
   "id": "16bbdcdd",
   "metadata": {},
   "source": [
    "Here a Random Forest Regressor model is created, fits it on input and output data, prints the R-squaredvalue to evaluate the goodness of fit, makes predictions using the fitted model, calculates the RMSE toevaluate the prediction accuracy, and prints the RMSE value. We tried to create a Random Forest Regressormodel object with 1000 trees and a random state of 42 and to fit the Random Forest Regressor model on the input data x and output data y."
   ]
  },
  {
   "cell_type": "code",
   "execution_count": 29,
   "id": "3e9328f2",
   "metadata": {},
   "outputs": [
    {
     "name": "stdout",
     "output_type": "stream",
     "text": [
      "0.9155704620755731\n"
     ]
    }
   ],
   "source": [
    "print(rf.score(x,y))"
   ]
  },
  {
   "cell_type": "markdown",
   "id": "3d7cab92",
   "metadata": {},
   "source": [
    "R-squared value of the Random Forest Regressor model is calculated. The R-squared value is a statisticalmeasure that represents the proportion of the variance in the dependent variable that is explained by theindependent variables in the model. A higher R-squared value indicates a better fit of the model.The Rsquared value of the obtained model is 0.91551"
   ]
  },
  {
   "cell_type": "code",
   "execution_count": 30,
   "id": "1274e3cc",
   "metadata": {},
   "outputs": [
    {
     "name": "stdout",
     "output_type": "stream",
     "text": [
      "3.9096473870349517\n"
     ]
    }
   ],
   "source": [
    "y_train_pred = rf.predict(x)\n",
    "rmse = metrics.mean_squared_error(y, y_train_pred, squared=False)\n",
    "print(rmse)"
   ]
  },
  {
   "cell_type": "markdown",
   "id": "e3055ce5",
   "metadata": {},
   "source": [
    "The root mean squared error (RMSE) between the predicted output values (y_train_pred) and the actual output values (y) is calculated.\n",
    "    \n",
    "RMSE is a commonly used metric to evaluate the performance of regression models. It measures the average difference between the predicted and actual values in the same units as the target variable.\n",
    "    \n",
    "The RMSE value obtained for the predictions is 3.9108"
   ]
  },
  {
   "cell_type": "code",
   "execution_count": null,
   "id": "bfebe5e5",
   "metadata": {},
   "outputs": [],
   "source": []
  },
  {
   "cell_type": "code",
   "execution_count": null,
   "id": "338ce114",
   "metadata": {},
   "outputs": [],
   "source": []
  },
  {
   "cell_type": "code",
   "execution_count": 31,
   "id": "685e2a2b",
   "metadata": {
    "scrolled": true
   },
   "outputs": [],
   "source": [
    "#rf.predict(x)"
   ]
  },
  {
   "cell_type": "markdown",
   "id": "a1aad8dc",
   "metadata": {},
   "source": [
    "<h2> Preparation of Test Data"
   ]
  },
  {
   "cell_type": "markdown",
   "id": "c0dd09d0",
   "metadata": {},
   "source": [
    "It is important to ensure that the test data is representative of the real-world data that the model will encounter and to preprocess the data in the same way as the training data to ensure that the evaluation metrics accurately reflect the performance of the model."
   ]
  },
  {
   "cell_type": "markdown",
   "id": "ad4842dc",
   "metadata": {},
   "source": [
    "Pre-processing of the test data in the same way as the training data is done. This includes removal of nullvalues and replacing the same by string 'unassigned'.\n",
    "Splitting of the genre column into sub-genres is auseful technique in the analysis of the DataFrame.\n",
    "Grouping of infrequent genres in the 'genre' column of aDataFrame into a single category called 'others'"
   ]
  },
  {
   "cell_type": "code",
   "execution_count": 32,
   "id": "1e7a5da7",
   "metadata": {},
   "outputs": [],
   "source": [
    "data_test = pd.read_csv(\"CS98XRegressionTest.csv\")\n",
    "# data_test.isna().sum()"
   ]
  },
  {
   "cell_type": "code",
   "execution_count": 33,
   "id": "1d6b4d2a",
   "metadata": {},
   "outputs": [],
   "source": [
    "data_test['top genre'] = data_test['top genre'].fillna('unassigned')\n",
    "data_test.rename({'pop': 'popularity'}, axis=1, inplace=True)\n",
    "# data_test.drop(columns=['bpm','live','val','spch'],axis=1,inplace=True)\n",
    "data_test.drop(['Id','title'],axis=1,inplace=True)"
   ]
  },
  {
   "cell_type": "code",
   "execution_count": 34,
   "id": "110230ec",
   "metadata": {},
   "outputs": [],
   "source": [
    "data_test['dur'] = np.log2(data_test['dur'])\n",
    "data_test['nrgy'] = np.log2(data_test['nrgy'])\n",
    "data_test['bpm'] = np.log2(data_test['bpm'])"
   ]
  },
  {
   "cell_type": "code",
   "execution_count": 35,
   "id": "6d20c582",
   "metadata": {
    "scrolled": true
   },
   "outputs": [],
   "source": [
    "genre = (data_test[\"top genre\"].str.strip()).str.lower()\n",
    "gen = genre.str.split(\" \",0)\n",
    "new_genre = []\n",
    "for i in gen:\n",
    "    new_genre.append(i[-1])\n",
    "new_genre=np.array(new_genre)\n",
    "data_test['genre'] = new_genre.tolist()\n",
    "data_test.drop(columns=['top genre'],axis=1,inplace=True)"
   ]
  },
  {
   "cell_type": "code",
   "execution_count": 36,
   "id": "3a132feb",
   "metadata": {},
   "outputs": [],
   "source": [
    "v = data_test['genre'].value_counts()\n",
    "data_test.loc[data_test['genre'].isin(v[v<3].index), 'genre'] = 'others'"
   ]
  },
  {
   "cell_type": "code",
   "execution_count": 37,
   "id": "6bd0157e",
   "metadata": {},
   "outputs": [],
   "source": [
    "count = data_test['artist'].value_counts()\n",
    "data_test['value_count'] = data_test['artist'].apply(lambda x: count[x])\n",
    "data_test['artist'] = data_test['value_count'].apply(lambda x: round(x/7,2))\n",
    "data_test.drop(columns=['value_count'],axis=1,inplace=True)"
   ]
  },
  {
   "cell_type": "markdown",
   "id": "a680bfe1",
   "metadata": {},
   "source": [
    "<h3> Performing feature scaling on the selected columns in the test data dataframe"
   ]
  },
  {
   "cell_type": "code",
   "execution_count": 38,
   "id": "6c646254",
   "metadata": {},
   "outputs": [],
   "source": [
    "std_df_scaled_t = scaler.transform(data_test[scl_attr])\n",
    "data_test[scl_attr] = pd.DataFrame(std_df_scaled_t)\n",
    "# data_test.head"
   ]
  },
  {
   "cell_type": "code",
   "execution_count": 39,
   "id": "7c31c28d",
   "metadata": {},
   "outputs": [],
   "source": [
    "xtest_pca = pca.transform(data_test[scl_attr])"
   ]
  },
  {
   "cell_type": "code",
   "execution_count": 40,
   "id": "0a3cc2c4",
   "metadata": {},
   "outputs": [],
   "source": [
    "data_test = pd.concat([data_test[['genre']].reset_index(drop=True), pd.DataFrame(xtest_pca)], axis='columns')\n",
    "# data_test.head"
   ]
  },
  {
   "cell_type": "markdown",
   "id": "23b420e8",
   "metadata": {},
   "source": [
    "<h3> Perform feature transformation on the selected columns in the test data dataframe"
   ]
  },
  {
   "cell_type": "code",
   "execution_count": 41,
   "id": "b481f0ff",
   "metadata": {},
   "outputs": [],
   "source": [
    "oh_genre_t = pd.DataFrame(oh.transform(data_test[[\"genre\"]]).toarray())\n",
    "data_test = pd.concat([data_test.reset_index(drop=True), pd.DataFrame(oh_genre_t)], axis='columns')\n",
    "data_test.drop(columns='genre',inplace=True)\n",
    "# data_test.head(2)"
   ]
  },
  {
   "cell_type": "code",
   "execution_count": 42,
   "id": "11e5b96f",
   "metadata": {
    "scrolled": true
   },
   "outputs": [
    {
     "data": {
      "text/plain": [
       "pandas.core.frame.DataFrame"
      ]
     },
     "execution_count": 42,
     "metadata": {},
     "output_type": "execute_result"
    }
   ],
   "source": [
    "type(data_test)"
   ]
  },
  {
   "cell_type": "code",
   "execution_count": 43,
   "id": "25d326d3",
   "metadata": {
    "scrolled": false
   },
   "outputs": [],
   "source": [
    "spotify_pred = clf.predict(data_test)\n",
    "#spotify_pred"
   ]
  },
  {
   "cell_type": "markdown",
   "id": "a5854058",
   "metadata": {},
   "source": [
    "<h3> Tested the Linear Regression Model(clf) and Random Forest regression model(rf) on the test data and made predictions"
   ]
  },
  {
   "cell_type": "code",
   "execution_count": 44,
   "id": "c51f8993",
   "metadata": {},
   "outputs": [],
   "source": [
    "spotify_pred = rf.predict(data_test)\n",
    "# spotify_pred"
   ]
  },
  {
   "cell_type": "code",
   "execution_count": 45,
   "id": "052c1c61",
   "metadata": {},
   "outputs": [],
   "source": [
    "data_sub = pd.read_csv(\"CS98XRegressionTest.csv\")\n",
    "spotify_submit = pd.DataFrame([data_sub.loc[:,\"Id\"]]).T\n",
    "# spotify_submit.size"
   ]
  },
  {
   "cell_type": "code",
   "execution_count": 46,
   "id": "9c689fb9",
   "metadata": {
    "scrolled": true
   },
   "outputs": [],
   "source": [
    "spotify_submit['pop'] = pd.DataFrame(spotify_pred.round().astype(int))\n",
    "spotify_submit.to_csv('spotify_submit_preds_rf.csv',index=False)\n",
    "# spotify_submit.head"
   ]
  },
  {
   "cell_type": "code",
   "execution_count": 47,
   "id": "0392a65c",
   "metadata": {},
   "outputs": [],
   "source": [
    "# bar plot for test data columns\n",
    "\n",
    "# feat_importances = pd.Series(rf.feature_importances_, index=data_test.columns)\n",
    "# feat_importances.nlargest(12).plot(kind='barh')"
   ]
  },
  {
   "cell_type": "markdown",
   "id": "82414595",
   "metadata": {},
   "source": [
    "<h2> Conclusion"
   ]
  },
  {
   "cell_type": "markdown",
   "id": "45d5b90b",
   "metadata": {},
   "source": [
    "- Based on the matrix the best trained model that performed well is Random Forest, while testing it on the \"test\" data and cross-referrencing with the Kaggle Competition score (i.e., 6.84028) which we believe it is a good score"
   ]
  },
  {
   "cell_type": "markdown",
   "id": "77ba5f84",
   "metadata": {},
   "source": [
    "<h2> Second problem statement - \"Classification problem to predict the top genre that a song belongs to\""
   ]
  },
  {
   "cell_type": "markdown",
   "id": "4d113a02",
   "metadata": {},
   "source": [
    "The aim of this project is to build a model that predicts the top genre a song belongs to."
   ]
  },
  {
   "cell_type": "markdown",
   "id": "5b95e54b",
   "metadata": {},
   "source": [
    "<h3> Importing additional libraries & train dataset csv file to performing a classification analysis"
   ]
  },
  {
   "cell_type": "code",
   "execution_count": 48,
   "id": "e1af5a99",
   "metadata": {},
   "outputs": [],
   "source": [
    "from sklearn.ensemble import RandomForestClassifier  \n",
    "from sklearn.tree import DecisionTreeClassifier \n",
    "from sklearn.inspection import permutation_importance\n",
    "from scipy.stats.mstats import winsorize\n",
    "from sklearn.naive_bayes import GaussianNB"
   ]
  },
  {
   "cell_type": "code",
   "execution_count": 49,
   "id": "e0bd8a52",
   "metadata": {},
   "outputs": [
    {
     "ename": "FileNotFoundError",
     "evalue": "[Errno 2] No such file or directory: 'CS98XClassificationTrain.csv'",
     "output_type": "error",
     "traceback": [
      "\u001b[0;31m---------------------------------------------------------------------------\u001b[0m",
      "\u001b[0;31mFileNotFoundError\u001b[0m                         Traceback (most recent call last)",
      "Input \u001b[0;32mIn [49]\u001b[0m, in \u001b[0;36m<cell line: 1>\u001b[0;34m()\u001b[0m\n\u001b[0;32m----> 1\u001b[0m data_train \u001b[38;5;241m=\u001b[39m \u001b[43mpd\u001b[49m\u001b[38;5;241;43m.\u001b[39;49m\u001b[43mread_csv\u001b[49m\u001b[43m(\u001b[49m\u001b[38;5;124;43m\"\u001b[39;49m\u001b[38;5;124;43mCS98XClassificationTrain.csv\u001b[39;49m\u001b[38;5;124;43m\"\u001b[39;49m\u001b[43m)\u001b[49m\n",
      "File \u001b[0;32m~/anaconda3/lib/python3.9/site-packages/pandas/util/_decorators.py:311\u001b[0m, in \u001b[0;36mdeprecate_nonkeyword_arguments.<locals>.decorate.<locals>.wrapper\u001b[0;34m(*args, **kwargs)\u001b[0m\n\u001b[1;32m    305\u001b[0m \u001b[38;5;28;01mif\u001b[39;00m \u001b[38;5;28mlen\u001b[39m(args) \u001b[38;5;241m>\u001b[39m num_allow_args:\n\u001b[1;32m    306\u001b[0m     warnings\u001b[38;5;241m.\u001b[39mwarn(\n\u001b[1;32m    307\u001b[0m         msg\u001b[38;5;241m.\u001b[39mformat(arguments\u001b[38;5;241m=\u001b[39marguments),\n\u001b[1;32m    308\u001b[0m         \u001b[38;5;167;01mFutureWarning\u001b[39;00m,\n\u001b[1;32m    309\u001b[0m         stacklevel\u001b[38;5;241m=\u001b[39mstacklevel,\n\u001b[1;32m    310\u001b[0m     )\n\u001b[0;32m--> 311\u001b[0m \u001b[38;5;28;01mreturn\u001b[39;00m \u001b[43mfunc\u001b[49m\u001b[43m(\u001b[49m\u001b[38;5;241;43m*\u001b[39;49m\u001b[43margs\u001b[49m\u001b[43m,\u001b[49m\u001b[43m \u001b[49m\u001b[38;5;241;43m*\u001b[39;49m\u001b[38;5;241;43m*\u001b[39;49m\u001b[43mkwargs\u001b[49m\u001b[43m)\u001b[49m\n",
      "File \u001b[0;32m~/anaconda3/lib/python3.9/site-packages/pandas/io/parsers/readers.py:680\u001b[0m, in \u001b[0;36mread_csv\u001b[0;34m(filepath_or_buffer, sep, delimiter, header, names, index_col, usecols, squeeze, prefix, mangle_dupe_cols, dtype, engine, converters, true_values, false_values, skipinitialspace, skiprows, skipfooter, nrows, na_values, keep_default_na, na_filter, verbose, skip_blank_lines, parse_dates, infer_datetime_format, keep_date_col, date_parser, dayfirst, cache_dates, iterator, chunksize, compression, thousands, decimal, lineterminator, quotechar, quoting, doublequote, escapechar, comment, encoding, encoding_errors, dialect, error_bad_lines, warn_bad_lines, on_bad_lines, delim_whitespace, low_memory, memory_map, float_precision, storage_options)\u001b[0m\n\u001b[1;32m    665\u001b[0m kwds_defaults \u001b[38;5;241m=\u001b[39m _refine_defaults_read(\n\u001b[1;32m    666\u001b[0m     dialect,\n\u001b[1;32m    667\u001b[0m     delimiter,\n\u001b[0;32m   (...)\u001b[0m\n\u001b[1;32m    676\u001b[0m     defaults\u001b[38;5;241m=\u001b[39m{\u001b[38;5;124m\"\u001b[39m\u001b[38;5;124mdelimiter\u001b[39m\u001b[38;5;124m\"\u001b[39m: \u001b[38;5;124m\"\u001b[39m\u001b[38;5;124m,\u001b[39m\u001b[38;5;124m\"\u001b[39m},\n\u001b[1;32m    677\u001b[0m )\n\u001b[1;32m    678\u001b[0m kwds\u001b[38;5;241m.\u001b[39mupdate(kwds_defaults)\n\u001b[0;32m--> 680\u001b[0m \u001b[38;5;28;01mreturn\u001b[39;00m \u001b[43m_read\u001b[49m\u001b[43m(\u001b[49m\u001b[43mfilepath_or_buffer\u001b[49m\u001b[43m,\u001b[49m\u001b[43m \u001b[49m\u001b[43mkwds\u001b[49m\u001b[43m)\u001b[49m\n",
      "File \u001b[0;32m~/anaconda3/lib/python3.9/site-packages/pandas/io/parsers/readers.py:575\u001b[0m, in \u001b[0;36m_read\u001b[0;34m(filepath_or_buffer, kwds)\u001b[0m\n\u001b[1;32m    572\u001b[0m _validate_names(kwds\u001b[38;5;241m.\u001b[39mget(\u001b[38;5;124m\"\u001b[39m\u001b[38;5;124mnames\u001b[39m\u001b[38;5;124m\"\u001b[39m, \u001b[38;5;28;01mNone\u001b[39;00m))\n\u001b[1;32m    574\u001b[0m \u001b[38;5;66;03m# Create the parser.\u001b[39;00m\n\u001b[0;32m--> 575\u001b[0m parser \u001b[38;5;241m=\u001b[39m \u001b[43mTextFileReader\u001b[49m\u001b[43m(\u001b[49m\u001b[43mfilepath_or_buffer\u001b[49m\u001b[43m,\u001b[49m\u001b[43m \u001b[49m\u001b[38;5;241;43m*\u001b[39;49m\u001b[38;5;241;43m*\u001b[39;49m\u001b[43mkwds\u001b[49m\u001b[43m)\u001b[49m\n\u001b[1;32m    577\u001b[0m \u001b[38;5;28;01mif\u001b[39;00m chunksize \u001b[38;5;129;01mor\u001b[39;00m iterator:\n\u001b[1;32m    578\u001b[0m     \u001b[38;5;28;01mreturn\u001b[39;00m parser\n",
      "File \u001b[0;32m~/anaconda3/lib/python3.9/site-packages/pandas/io/parsers/readers.py:933\u001b[0m, in \u001b[0;36mTextFileReader.__init__\u001b[0;34m(self, f, engine, **kwds)\u001b[0m\n\u001b[1;32m    930\u001b[0m     \u001b[38;5;28mself\u001b[39m\u001b[38;5;241m.\u001b[39moptions[\u001b[38;5;124m\"\u001b[39m\u001b[38;5;124mhas_index_names\u001b[39m\u001b[38;5;124m\"\u001b[39m] \u001b[38;5;241m=\u001b[39m kwds[\u001b[38;5;124m\"\u001b[39m\u001b[38;5;124mhas_index_names\u001b[39m\u001b[38;5;124m\"\u001b[39m]\n\u001b[1;32m    932\u001b[0m \u001b[38;5;28mself\u001b[39m\u001b[38;5;241m.\u001b[39mhandles: IOHandles \u001b[38;5;241m|\u001b[39m \u001b[38;5;28;01mNone\u001b[39;00m \u001b[38;5;241m=\u001b[39m \u001b[38;5;28;01mNone\u001b[39;00m\n\u001b[0;32m--> 933\u001b[0m \u001b[38;5;28mself\u001b[39m\u001b[38;5;241m.\u001b[39m_engine \u001b[38;5;241m=\u001b[39m \u001b[38;5;28;43mself\u001b[39;49m\u001b[38;5;241;43m.\u001b[39;49m\u001b[43m_make_engine\u001b[49m\u001b[43m(\u001b[49m\u001b[43mf\u001b[49m\u001b[43m,\u001b[49m\u001b[43m \u001b[49m\u001b[38;5;28;43mself\u001b[39;49m\u001b[38;5;241;43m.\u001b[39;49m\u001b[43mengine\u001b[49m\u001b[43m)\u001b[49m\n",
      "File \u001b[0;32m~/anaconda3/lib/python3.9/site-packages/pandas/io/parsers/readers.py:1217\u001b[0m, in \u001b[0;36mTextFileReader._make_engine\u001b[0;34m(self, f, engine)\u001b[0m\n\u001b[1;32m   1213\u001b[0m     mode \u001b[38;5;241m=\u001b[39m \u001b[38;5;124m\"\u001b[39m\u001b[38;5;124mrb\u001b[39m\u001b[38;5;124m\"\u001b[39m\n\u001b[1;32m   1214\u001b[0m \u001b[38;5;66;03m# error: No overload variant of \"get_handle\" matches argument types\u001b[39;00m\n\u001b[1;32m   1215\u001b[0m \u001b[38;5;66;03m# \"Union[str, PathLike[str], ReadCsvBuffer[bytes], ReadCsvBuffer[str]]\"\u001b[39;00m\n\u001b[1;32m   1216\u001b[0m \u001b[38;5;66;03m# , \"str\", \"bool\", \"Any\", \"Any\", \"Any\", \"Any\", \"Any\"\u001b[39;00m\n\u001b[0;32m-> 1217\u001b[0m \u001b[38;5;28mself\u001b[39m\u001b[38;5;241m.\u001b[39mhandles \u001b[38;5;241m=\u001b[39m \u001b[43mget_handle\u001b[49m\u001b[43m(\u001b[49m\u001b[43m  \u001b[49m\u001b[38;5;66;43;03m# type: ignore[call-overload]\u001b[39;49;00m\n\u001b[1;32m   1218\u001b[0m \u001b[43m    \u001b[49m\u001b[43mf\u001b[49m\u001b[43m,\u001b[49m\n\u001b[1;32m   1219\u001b[0m \u001b[43m    \u001b[49m\u001b[43mmode\u001b[49m\u001b[43m,\u001b[49m\n\u001b[1;32m   1220\u001b[0m \u001b[43m    \u001b[49m\u001b[43mencoding\u001b[49m\u001b[38;5;241;43m=\u001b[39;49m\u001b[38;5;28;43mself\u001b[39;49m\u001b[38;5;241;43m.\u001b[39;49m\u001b[43moptions\u001b[49m\u001b[38;5;241;43m.\u001b[39;49m\u001b[43mget\u001b[49m\u001b[43m(\u001b[49m\u001b[38;5;124;43m\"\u001b[39;49m\u001b[38;5;124;43mencoding\u001b[39;49m\u001b[38;5;124;43m\"\u001b[39;49m\u001b[43m,\u001b[49m\u001b[43m \u001b[49m\u001b[38;5;28;43;01mNone\u001b[39;49;00m\u001b[43m)\u001b[49m\u001b[43m,\u001b[49m\n\u001b[1;32m   1221\u001b[0m \u001b[43m    \u001b[49m\u001b[43mcompression\u001b[49m\u001b[38;5;241;43m=\u001b[39;49m\u001b[38;5;28;43mself\u001b[39;49m\u001b[38;5;241;43m.\u001b[39;49m\u001b[43moptions\u001b[49m\u001b[38;5;241;43m.\u001b[39;49m\u001b[43mget\u001b[49m\u001b[43m(\u001b[49m\u001b[38;5;124;43m\"\u001b[39;49m\u001b[38;5;124;43mcompression\u001b[39;49m\u001b[38;5;124;43m\"\u001b[39;49m\u001b[43m,\u001b[49m\u001b[43m \u001b[49m\u001b[38;5;28;43;01mNone\u001b[39;49;00m\u001b[43m)\u001b[49m\u001b[43m,\u001b[49m\n\u001b[1;32m   1222\u001b[0m \u001b[43m    \u001b[49m\u001b[43mmemory_map\u001b[49m\u001b[38;5;241;43m=\u001b[39;49m\u001b[38;5;28;43mself\u001b[39;49m\u001b[38;5;241;43m.\u001b[39;49m\u001b[43moptions\u001b[49m\u001b[38;5;241;43m.\u001b[39;49m\u001b[43mget\u001b[49m\u001b[43m(\u001b[49m\u001b[38;5;124;43m\"\u001b[39;49m\u001b[38;5;124;43mmemory_map\u001b[39;49m\u001b[38;5;124;43m\"\u001b[39;49m\u001b[43m,\u001b[49m\u001b[43m \u001b[49m\u001b[38;5;28;43;01mFalse\u001b[39;49;00m\u001b[43m)\u001b[49m\u001b[43m,\u001b[49m\n\u001b[1;32m   1223\u001b[0m \u001b[43m    \u001b[49m\u001b[43mis_text\u001b[49m\u001b[38;5;241;43m=\u001b[39;49m\u001b[43mis_text\u001b[49m\u001b[43m,\u001b[49m\n\u001b[1;32m   1224\u001b[0m \u001b[43m    \u001b[49m\u001b[43merrors\u001b[49m\u001b[38;5;241;43m=\u001b[39;49m\u001b[38;5;28;43mself\u001b[39;49m\u001b[38;5;241;43m.\u001b[39;49m\u001b[43moptions\u001b[49m\u001b[38;5;241;43m.\u001b[39;49m\u001b[43mget\u001b[49m\u001b[43m(\u001b[49m\u001b[38;5;124;43m\"\u001b[39;49m\u001b[38;5;124;43mencoding_errors\u001b[39;49m\u001b[38;5;124;43m\"\u001b[39;49m\u001b[43m,\u001b[49m\u001b[43m \u001b[49m\u001b[38;5;124;43m\"\u001b[39;49m\u001b[38;5;124;43mstrict\u001b[39;49m\u001b[38;5;124;43m\"\u001b[39;49m\u001b[43m)\u001b[49m\u001b[43m,\u001b[49m\n\u001b[1;32m   1225\u001b[0m \u001b[43m    \u001b[49m\u001b[43mstorage_options\u001b[49m\u001b[38;5;241;43m=\u001b[39;49m\u001b[38;5;28;43mself\u001b[39;49m\u001b[38;5;241;43m.\u001b[39;49m\u001b[43moptions\u001b[49m\u001b[38;5;241;43m.\u001b[39;49m\u001b[43mget\u001b[49m\u001b[43m(\u001b[49m\u001b[38;5;124;43m\"\u001b[39;49m\u001b[38;5;124;43mstorage_options\u001b[39;49m\u001b[38;5;124;43m\"\u001b[39;49m\u001b[43m,\u001b[49m\u001b[43m \u001b[49m\u001b[38;5;28;43;01mNone\u001b[39;49;00m\u001b[43m)\u001b[49m\u001b[43m,\u001b[49m\n\u001b[1;32m   1226\u001b[0m \u001b[43m\u001b[49m\u001b[43m)\u001b[49m\n\u001b[1;32m   1227\u001b[0m \u001b[38;5;28;01massert\u001b[39;00m \u001b[38;5;28mself\u001b[39m\u001b[38;5;241m.\u001b[39mhandles \u001b[38;5;129;01mis\u001b[39;00m \u001b[38;5;129;01mnot\u001b[39;00m \u001b[38;5;28;01mNone\u001b[39;00m\n\u001b[1;32m   1228\u001b[0m f \u001b[38;5;241m=\u001b[39m \u001b[38;5;28mself\u001b[39m\u001b[38;5;241m.\u001b[39mhandles\u001b[38;5;241m.\u001b[39mhandle\n",
      "File \u001b[0;32m~/anaconda3/lib/python3.9/site-packages/pandas/io/common.py:789\u001b[0m, in \u001b[0;36mget_handle\u001b[0;34m(path_or_buf, mode, encoding, compression, memory_map, is_text, errors, storage_options)\u001b[0m\n\u001b[1;32m    784\u001b[0m \u001b[38;5;28;01melif\u001b[39;00m \u001b[38;5;28misinstance\u001b[39m(handle, \u001b[38;5;28mstr\u001b[39m):\n\u001b[1;32m    785\u001b[0m     \u001b[38;5;66;03m# Check whether the filename is to be opened in binary mode.\u001b[39;00m\n\u001b[1;32m    786\u001b[0m     \u001b[38;5;66;03m# Binary mode does not support 'encoding' and 'newline'.\u001b[39;00m\n\u001b[1;32m    787\u001b[0m     \u001b[38;5;28;01mif\u001b[39;00m ioargs\u001b[38;5;241m.\u001b[39mencoding \u001b[38;5;129;01mand\u001b[39;00m \u001b[38;5;124m\"\u001b[39m\u001b[38;5;124mb\u001b[39m\u001b[38;5;124m\"\u001b[39m \u001b[38;5;129;01mnot\u001b[39;00m \u001b[38;5;129;01min\u001b[39;00m ioargs\u001b[38;5;241m.\u001b[39mmode:\n\u001b[1;32m    788\u001b[0m         \u001b[38;5;66;03m# Encoding\u001b[39;00m\n\u001b[0;32m--> 789\u001b[0m         handle \u001b[38;5;241m=\u001b[39m \u001b[38;5;28;43mopen\u001b[39;49m\u001b[43m(\u001b[49m\n\u001b[1;32m    790\u001b[0m \u001b[43m            \u001b[49m\u001b[43mhandle\u001b[49m\u001b[43m,\u001b[49m\n\u001b[1;32m    791\u001b[0m \u001b[43m            \u001b[49m\u001b[43mioargs\u001b[49m\u001b[38;5;241;43m.\u001b[39;49m\u001b[43mmode\u001b[49m\u001b[43m,\u001b[49m\n\u001b[1;32m    792\u001b[0m \u001b[43m            \u001b[49m\u001b[43mencoding\u001b[49m\u001b[38;5;241;43m=\u001b[39;49m\u001b[43mioargs\u001b[49m\u001b[38;5;241;43m.\u001b[39;49m\u001b[43mencoding\u001b[49m\u001b[43m,\u001b[49m\n\u001b[1;32m    793\u001b[0m \u001b[43m            \u001b[49m\u001b[43merrors\u001b[49m\u001b[38;5;241;43m=\u001b[39;49m\u001b[43merrors\u001b[49m\u001b[43m,\u001b[49m\n\u001b[1;32m    794\u001b[0m \u001b[43m            \u001b[49m\u001b[43mnewline\u001b[49m\u001b[38;5;241;43m=\u001b[39;49m\u001b[38;5;124;43m\"\u001b[39;49m\u001b[38;5;124;43m\"\u001b[39;49m\u001b[43m,\u001b[49m\n\u001b[1;32m    795\u001b[0m \u001b[43m        \u001b[49m\u001b[43m)\u001b[49m\n\u001b[1;32m    796\u001b[0m     \u001b[38;5;28;01melse\u001b[39;00m:\n\u001b[1;32m    797\u001b[0m         \u001b[38;5;66;03m# Binary mode\u001b[39;00m\n\u001b[1;32m    798\u001b[0m         handle \u001b[38;5;241m=\u001b[39m \u001b[38;5;28mopen\u001b[39m(handle, ioargs\u001b[38;5;241m.\u001b[39mmode)\n",
      "\u001b[0;31mFileNotFoundError\u001b[0m: [Errno 2] No such file or directory: 'CS98XClassificationTrain.csv'"
     ]
    }
   ],
   "source": [
    "data_train = pd.read_csv(\"CS98XClassificationTrain.csv\")\n",
    "# data_train.head"
   ]
  },
  {
   "cell_type": "code",
   "execution_count": null,
   "id": "92f1f230",
   "metadata": {},
   "outputs": [],
   "source": [
    "df = data_train.groupby(['artist', 'top genre'])"
   ]
  },
  {
   "cell_type": "code",
   "execution_count": null,
   "id": "6dc2421a",
   "metadata": {},
   "outputs": [],
   "source": [
    "data_train.rename({'pop': 'popularity'}, axis=1, inplace=True)\n",
    "# data_train.isna().sum()"
   ]
  },
  {
   "cell_type": "markdown",
   "id": "c7894342",
   "metadata": {},
   "source": [
    "Here we grouped the data by artist and top genre, this helps in analyzing whether certain musical genres tend to be associated with certain musical characteristics, or to compare the popularity of different artists within the same genre. By grouping the data in this way, we can more easily analyze and compare the musical characteristics of each artist within each genre."
   ]
  },
  {
   "cell_type": "markdown",
   "id": "031c1530",
   "metadata": {},
   "source": [
    "<h3> Removing Null values from the data"
   ]
  },
  {
   "cell_type": "code",
   "execution_count": null,
   "id": "a8319e36",
   "metadata": {},
   "outputs": [],
   "source": [
    "data_train.dropna(inplace=True)"
   ]
  },
  {
   "cell_type": "code",
   "execution_count": null,
   "id": "a3382f7f",
   "metadata": {},
   "outputs": [],
   "source": [
    "data_train['dur'] = data_train[['dur']]/60\n",
    "# data_train.head"
   ]
  },
  {
   "cell_type": "markdown",
   "id": "adeb9b2f",
   "metadata": {},
   "source": [
    "Changing the dataset's duration column from seconds to minutes. This is due to the fact that the original duration values are in seconds, which can be a very large number for some songs, and converting it to minutes can make it easier to work with and interpret."
   ]
  },
  {
   "cell_type": "code",
   "execution_count": null,
   "id": "3f7f15b9",
   "metadata": {},
   "outputs": [],
   "source": [
    "# plt.figure(figsize=(10,8))\n",
    "# sns.heatmap(data_train.corr(),annot=True,cmap='viridis')"
   ]
  },
  {
   "cell_type": "markdown",
   "id": "549efcc9",
   "metadata": {},
   "source": [
    "Looking at the heatmap, we can see that some features are strongly positively correlated with each other, such as 'dnce' and 'val' (0.47), 'nrgy' and 'dB' (0.69), 'dB' and 'popularity' (0.31), and 'dur' and 'popularity' (0.32). On the other hand, some features are strongly negatively correlated, such as 'acous' and 'nrgy' (-0.66) and 'acous' and 'popularity' (-0.44).\n",
    "\n",
    "Some features have weak or no correlation with other features, such as 'year' with most of the other features, and 'spch' with most of the other features. This indicates that these features may not be as important in predicting the target variable, and may be dropped in a feature selection process."
   ]
  },
  {
   "cell_type": "code",
   "execution_count": null,
   "id": "3162790f",
   "metadata": {},
   "outputs": [],
   "source": [
    "data_train['aud_mean']  = data_train[['bpm', 'dnce','dB','val','acous']].mean(axis=1)"
   ]
  },
  {
   "cell_type": "markdown",
   "id": "56306a66",
   "metadata": {},
   "source": [
    "The 'aud_mean' column is calculated by taking the mean of the values in five existing columns in the same row: bpm, dnce, dB, val, and acous."
   ]
  },
  {
   "cell_type": "code",
   "execution_count": null,
   "id": "ee7597bf",
   "metadata": {},
   "outputs": [],
   "source": [
    "%matplotlib inline\n",
    "data_train.hist(bins=20, figsize=(8,8))\n",
    "plt.show()"
   ]
  },
  {
   "cell_type": "markdown",
   "id": "20dd0027",
   "metadata": {},
   "source": [
    "With the help of the histogram of the numerical features that 'live' , 'speech' , 'acous' are skewed"
   ]
  },
  {
   "cell_type": "code",
   "execution_count": null,
   "id": "8eb9e478",
   "metadata": {},
   "outputs": [],
   "source": [
    "# ot_columns = ['bpm','dnce','dB','live','val','dur','acous','spch','popularity']\n",
    "# data_train.boxplot(ot_columns)"
   ]
  },
  {
   "cell_type": "markdown",
   "id": "85fa6be8",
   "metadata": {},
   "source": [
    "We have plotted boxplots for several features (bpm, dnce, dB, live, val, dur, acous, spch, and popularity) in the dataset data_train. This can help to identify any potential outliers in these features and provide a visual representation of the distribution of the data in each feature.\n",
    "\n",
    "dev = data_train['bpm'].quantile(0.50) ma = data_train['bpm'].quantile(0.90) print(dev,ma) data_train['bpm'] = np.where(data_train['bpm'] > ma, dev, data_train['bpm'])"
   ]
  },
  {
   "cell_type": "code",
   "execution_count": null,
   "id": "efeebcad",
   "metadata": {},
   "outputs": [],
   "source": [
    "# dev = data_train['bpm'].quantile(0.50)\n",
    "# ma = data_train['bpm'].quantile(0.90)\n",
    "# print(dev,ma)\n",
    "# data_train['bpm'] = np.where(data_train['bpm'] > ma, dev, data_train['bpm'])\n",
    "\n",
    "# Q1 = data_train['live'].quantile(0.25)\n",
    "# Q3 = data_train['live'].quantile(0.75)\n",
    "# IQR = Q3 - Q1\n",
    "\n",
    "# # Find the outlier rows\n",
    "# outliers = data_train[(data_train['live'] < Q1 - 1.5*IQR) | (data_train['live'] > Q3 + 1.5*IQR)]\n",
    "\n",
    "# # Print the outlier rows\n",
    "# print(outliers)\n",
    "\n",
    "# data_train['live'] = winsorize(data_train['live'], limits=[0.05, 0.05])\n",
    "# data_train['spch'] = winsorize(data_train['spch'], limits=[0.05, 0.05])"
   ]
  },
  {
   "cell_type": "markdown",
   "id": "d0cd1dc0",
   "metadata": {},
   "source": [
    "Inorder to treat outliers in the dataset for the features 'bpm', 'live', and 'spch', the median value (50th percentile) of the 'bpm' feature and the first quartile (25th percentile), third quartile (75th percentile), and interquartile range (IQR) for the 'live' feature is calculated. Then, we identified rows where the 'live' feature is more than 1.5 times the IQR below the first quartile or above the third quartile. These rows are considered outliers.The outliers in the 'live' and 'spch' features are replaced with values that are within a certain percentile range. The limits parameter is set to [0.05, 0.05], which means that the lowest 5% of the values and the highest 5% of the values will be replaced with the closest non-outlier values.\n",
    "\n",
    "But we found that the handling of outliers didnot improve the model , this was opted out"
   ]
  },
  {
   "cell_type": "code",
   "execution_count": null,
   "id": "d423e624",
   "metadata": {},
   "outputs": [],
   "source": [
    "# data_train.boxplot(ot_columns)"
   ]
  },
  {
   "cell_type": "code",
   "execution_count": null,
   "id": "7b99ddf5",
   "metadata": {},
   "outputs": [],
   "source": [
    "data_train.drop(columns=['live'],axis=1,inplace=True)"
   ]
  },
  {
   "cell_type": "markdown",
   "id": "fa94c1a5",
   "metadata": {},
   "source": [
    "<h3> The features 'live, 'acous' are skewed"
   ]
  },
  {
   "cell_type": "code",
   "execution_count": null,
   "id": "fc1a5d1f",
   "metadata": {},
   "outputs": [],
   "source": [
    "artist_stats = data_train.groupby(\"artist\").agg({\"bpm\": \"mean\", \"dnce\": \"mean\",\"dB\": \"mean\",\"val\": \"mean\"\n",
    "                                                   ,\"acous\": \"mean\"}).to_dict()\n",
    "data_train[\"artist_bpm_mean\"] = data_train[\"artist\"].map(artist_stats[\"bpm\"])\n",
    "data_train[\"artist_dnce_mean\"] = data_train[\"artist\"].map(artist_stats[\"dnce\"])\n",
    "data_train[\"artist_dB_mean\"] = data_train[\"artist\"].map(artist_stats[\"dB\"])\n",
    "data_train[\"artist_val_mean\"] = data_train[\"artist\"].map(artist_stats[\"val\"])\n",
    "data_train[\"artist_acous_mean\"] = data_train[\"artist\"].map(artist_stats[\"acous\"])\n",
    "# data_train.drop(columns=['artist'],axis=1,inplace=True)"
   ]
  },
  {
   "cell_type": "code",
   "execution_count": null,
   "id": "d5c713ee",
   "metadata": {
    "scrolled": true
   },
   "outputs": [],
   "source": [
    "# data_train.columns"
   ]
  },
  {
   "cell_type": "code",
   "execution_count": null,
   "id": "6abe6fd6",
   "metadata": {},
   "outputs": [],
   "source": [
    "# data_train.head"
   ]
  },
  {
   "cell_type": "markdown",
   "id": "004bc378",
   "metadata": {},
   "source": [
    "LabelEncoder is a utility class in scikit-learn that helps to encode categorical data into numerical data.\n",
    "\n",
    "It works by giving each category in a categorical feature a unique numerical value. Label encoding gives each category in the column a unique numerical value, with the first category getting a value of 0, the second getting a value of 1, and so on. It is used to encode the categorical variable \"genre\" into numerical values in this case. However, because we discovered that a one-hot encoder provides better performance, it was used."
   ]
  },
  {
   "cell_type": "code",
   "execution_count": null,
   "id": "9a1a845b",
   "metadata": {},
   "outputs": [],
   "source": [
    "# #Label encode genre\n",
    "# #Lable encode genre\n",
    "# from sklearn.preprocessing import LabelEncoder\n",
    "\n",
    "# #create instance of label encoder\n",
    "# lab = LabelEncoder()\n",
    "# data_train['genre'] = lab.fit_transform(data_train['genre'])\n",
    "# # data.drop(columns=['top genre'],axis=1,inplace=True)"
   ]
  },
  {
   "cell_type": "code",
   "execution_count": null,
   "id": "25dcd2a8",
   "metadata": {},
   "outputs": [],
   "source": [
    "# #Label encode artist\n",
    "# from sklearn.preprocessing import LabelEncoder\n",
    "\n",
    "# #create instance of label encoder\n",
    "# lab = LabelEncoder()\n",
    "# data_train['artist'] = lab.fit_transform(data_train['artist'])\n",
    "# # data.drop(columns=['top genre'],axis=1,inplace=True)"
   ]
  },
  {
   "cell_type": "code",
   "execution_count": null,
   "id": "e39ec485",
   "metadata": {},
   "outputs": [],
   "source": [
    "# oh = OneHotEncoder(handle_unknown='ignore')\n",
    "# oh_artist = pd.DataFrame(oh.fit_transform(data_train[[\"artist\"]]).toarray())"
   ]
  },
  {
   "cell_type": "markdown",
   "id": "8bf51f88",
   "metadata": {},
   "source": [
    "<h2> Scaling the features using StandardScaler"
   ]
  },
  {
   "cell_type": "code",
   "execution_count": null,
   "id": "9e927afc",
   "metadata": {},
   "outputs": [],
   "source": [
    "# # Scale the features\n",
    "from sklearn import preprocessing\n",
    "scaler = preprocessing.StandardScaler()\n",
    "\n",
    "scl_attr = ['bpm','dnce','dB','val','dur','acous','aud_mean','spch','popularity','artist_bpm_mean', 'artist_dnce_mean', 'artist_dB_mean',\n",
    "       'artist_val_mean', 'artist_acous_mean']\n",
    "ot_columns = ['Id','title','artist','year', 'top genre','nrgy']\n",
    "# data_train[scl_attr] = std_scaler.fit_transform(data_train[scl_attr])\n",
    "\n",
    "# scaler = preprocessing.RobustScaler()\n",
    "# robust_df = scaler.fit(data_train[scl_attr])\n",
    "# robust_df_scaled = scaler.transform(data_train[scl_attr])\n",
    "# data_train[scl_attr] = pd.DataFrame(robust_df_scaled)\n",
    "\n",
    "# scaler = preprocessing.RobustScaler()\n",
    "robust_df = scaler.fit(data_train[scl_attr])\n",
    "robust_df_scaled = scaler.transform(data_train[scl_attr])\n",
    "\n",
    "data_train = pd.concat([data_train[ot_columns].reset_index(drop=True), pd.DataFrame(robust_df_scaled,columns=scl_attr)], axis='columns')"
   ]
  },
  {
   "cell_type": "markdown",
   "id": "9eb36eff",
   "metadata": {},
   "source": [
    "The Standard Scaler scales the data based on mean and standard deviation. It assumes that the data follows a normal distribution and scales the data so that it has a mean of 0 and a standard deviation of 1. However, the standard scaler is sensitive to outliers in the data. If there are outliers in the data, the mean and standard deviation are affected, and the scaled values may not be representative of the true distribution of the data.\n",
    "\n",
    "On the other hand, Robust Scaler is a technique that scales the data based on percentiles. It is more robust to outliers as it scales the data using the interquartile range (IQR) and the median. This makes it more useful when dealing with data that has a lot of outliers, as it is less affected by them.\n",
    "\n",
    "Here standard scaler is used to encode 'artist' into numerical values since the variables with outliers were handled and gave better performance than robust scaler"
   ]
  },
  {
   "cell_type": "markdown",
   "id": "4c721f45",
   "metadata": {},
   "source": [
    "<h2> Principal Component Analysis (PCA) "
   ]
  },
  {
   "cell_type": "code",
   "execution_count": null,
   "id": "3b4e5bf2",
   "metadata": {},
   "outputs": [],
   "source": [
    "pca = PCA(n_components=7)\n",
    "x_pca = pca.fit_transform(data_train[scl_attr])\n",
    "data_train = pd.concat([data_train[ot_columns].reset_index(drop=True), pd.DataFrame(x_pca)], axis='columns')"
   ]
  },
  {
   "cell_type": "markdown",
   "id": "bc8b7761",
   "metadata": {},
   "source": [
    "Here Principal Component Analysis (PCA) is used to identify and remove correlated features in the dataset. Correlated features can introduce multicollinearity, which can affect the stability and interpretability of a machine learning model. PCA helps to transform the original features into a new set of uncorrelated features, known as principal components, that explain the maximum variance in the data. By retaining only the top principal components, we can reduce the dimensionality of the data and remove the correlation between features. This can help to reduce overfitting and improve the generalization performance of the machine learning model."
   ]
  },
  {
   "cell_type": "code",
   "execution_count": null,
   "id": "e7aab171",
   "metadata": {},
   "outputs": [],
   "source": [
    "oh = OneHotEncoder(handle_unknown='ignore')\n",
    "oh_artist = oh.fit_transform(data_train[[\"artist\"]]).toarray()\n",
    "# oh_artist.shape"
   ]
  },
  {
   "cell_type": "code",
   "execution_count": null,
   "id": "99ac877e",
   "metadata": {},
   "outputs": [],
   "source": [
    "data_train = pd.concat([data_train.reset_index(drop=True), pd.DataFrame(oh_artist)], axis='columns')\n",
    "data_train.drop(columns='artist',inplace=True)"
   ]
  },
  {
   "cell_type": "code",
   "execution_count": null,
   "id": "3b0cad79",
   "metadata": {},
   "outputs": [],
   "source": [
    "#drop unnecessary columns\n",
    "data_train.drop(columns=['Id','title','nrgy'],axis=1,inplace=True)\n",
    "# data_train.head"
   ]
  },
  {
   "cell_type": "code",
   "execution_count": null,
   "id": "655d30d4",
   "metadata": {},
   "outputs": [],
   "source": [
    "# oh_artist"
   ]
  },
  {
   "cell_type": "markdown",
   "id": "34faeb72",
   "metadata": {},
   "source": [
    "OneHot encoding is a process that converts categorical data into numerical data by creating binary columns for each category of a categorical feature. Each binary column represents one category, and the value of the column is either 0 or 1, depending on whether the corresponding data point belongs to that category or not. One hot encoding helps to prevent the machine learning algorithm from assigning incorrect or inappropriate numerical values to the categories, which can lead to inaccurate predictions or results. Here the one-hot encoder transforms these artist names into a set of binary features, where each feature corresponds to one artist name."
   ]
  },
  {
   "cell_type": "code",
   "execution_count": null,
   "id": "59f0bcc7",
   "metadata": {},
   "outputs": [],
   "source": [
    "# lab.classes_"
   ]
  },
  {
   "cell_type": "code",
   "execution_count": null,
   "id": "54b3e769",
   "metadata": {},
   "outputs": [],
   "source": [
    "# integer_mapping = {l: i for i, l in enumerate(lab.classes_)}\n",
    "# integer_mapping"
   ]
  },
  {
   "cell_type": "markdown",
   "id": "5cc7a986",
   "metadata": {},
   "source": [
    "Unnecessary features like 'Id', 'title' , 'nrgy' were dropped"
   ]
  },
  {
   "cell_type": "code",
   "execution_count": null,
   "id": "d79f3d4a",
   "metadata": {},
   "outputs": [],
   "source": [
    "x= data_train.loc[:, data_train.columns != 'top genre']\n",
    "y = data_train[['top genre']]\n",
    "y.shape"
   ]
  },
  {
   "cell_type": "code",
   "execution_count": null,
   "id": "e681bf58",
   "metadata": {},
   "outputs": [],
   "source": [
    "x.shape"
   ]
  },
  {
   "cell_type": "markdown",
   "id": "40750e8f",
   "metadata": {},
   "source": [
    "<h2> KNN CLassifier"
   ]
  },
  {
   "cell_type": "code",
   "execution_count": null,
   "id": "6144e7a8",
   "metadata": {},
   "outputs": [],
   "source": [
    "from sklearn.neighbors import KNeighborsClassifier\n",
    "from sklearn.model_selection import cross_val_score\n",
    "\n",
    "knn = KNeighborsClassifier(n_neighbors=61)\n",
    "#cross_validate\n",
    "cv_scores = cross_val_score(knn, x, y, cv=10)\n",
    "knn.fit(x, y)"
   ]
  },
  {
   "cell_type": "code",
   "execution_count": null,
   "id": "eea4b7b3",
   "metadata": {},
   "outputs": [],
   "source": [
    "accuracy_score = knn.score(x, y)\n",
    "print(\"Accuracy score = \"\"{:.2f}\".format(accuracy_score))"
   ]
  },
  {
   "cell_type": "markdown",
   "id": "250cb20a",
   "metadata": {},
   "source": [
    "In this case, the accuracy score is 0.32, which means that the model is correct in predicting the genre of a song approximately 32% of the time."
   ]
  },
  {
   "cell_type": "code",
   "execution_count": null,
   "id": "bbde4a3c",
   "metadata": {},
   "outputs": [],
   "source": [
    "cv_scores_mean = np.mean(cv_scores)\n",
    "print(cv_scores , \"\\n\\n\"\"mean =\" ,\"{:.2f}\".format(cv_scores_mean))"
   ]
  },
  {
   "cell_type": "markdown",
   "id": "bfcb10a9",
   "metadata": {},
   "source": [
    "In this case, the cv_scores_mean is 0.29, which means that the KNN classifier is expected to predict the genre of a song correctly 29% of the time on unseen data.\n",
    "\n",
    "Logistic regression is a machine learning algorithm used for binary classification problems, where the goal is to predict whether an instance belongs to one class or the other. It is a type of supervised learning algorithm, meaning it requires labeled data to train a model.\n",
    "\n",
    "In logistic regression, the algorithm models the probability of an instance belonging to a particular class using a logistic function. The logistic function maps any input value to a value between 0 and 1, so the output can be interpreted as the probability of an instance belonging to one class. The algorithm estimates the parameters of the logistic function using the labeled data to create a model."
   ]
  },
  {
   "cell_type": "markdown",
   "id": "be5d6689",
   "metadata": {},
   "source": [
    "<h2> Logistics Regression"
   ]
  },
  {
   "cell_type": "markdown",
   "id": "312bcd2a",
   "metadata": {},
   "source": [
    "In the context of the Spotify dataset, logistic regression could be used to predict whether a song is popular or not based on its audio features. This is a binary classification task, where the target variable is a binary indicator (1 for popular songs, 0 for non-popular songs). Logistic regression works by estimating the probability of a binary outcome given the values of the input features. It then applies a threshold (usually 0.5) to this probability to make a binary prediction."
   ]
  },
  {
   "cell_type": "code",
   "execution_count": null,
   "id": "1f91f079",
   "metadata": {},
   "outputs": [],
   "source": [
    "from sklearn.linear_model import LogisticRegression\n",
    "log = LogisticRegression(multi_class = 'ovr')"
   ]
  },
  {
   "cell_type": "code",
   "execution_count": null,
   "id": "eafa0a83",
   "metadata": {
    "scrolled": true
   },
   "outputs": [],
   "source": [
    "log.fit(x, y)"
   ]
  },
  {
   "cell_type": "code",
   "execution_count": null,
   "id": "8e1c8f54",
   "metadata": {},
   "outputs": [],
   "source": [
    "accuracy_score = log.score(x, y)\n",
    "print(\"Accuracy score = \"\"{:.2f}\".format(accuracy_score))"
   ]
  },
  {
   "cell_type": "markdown",
   "id": "9f3cfa73",
   "metadata": {},
   "source": [
    "In this case, the accuracy score is 0.55, predicting the genre of a song approximately 55% of the time., which is an improvement from K-means model"
   ]
  },
  {
   "cell_type": "markdown",
   "id": "65dee4f7",
   "metadata": {},
   "source": [
    "<h2> Random Forest"
   ]
  },
  {
   "cell_type": "markdown",
   "id": "9c41cd86",
   "metadata": {},
   "source": [
    "Random Forest is a machine learning algorithm used for classification and regression problems. It is an ensemble method, which means it combines multiple decision trees to make a more accurate and stable prediction."
   ]
  },
  {
   "cell_type": "code",
   "execution_count": null,
   "id": "9d85d0cc",
   "metadata": {},
   "outputs": [],
   "source": [
    "rf=RandomForestClassifier(n_estimators=50)       \n",
    "rf.fit(x,y)      "
   ]
  },
  {
   "cell_type": "code",
   "execution_count": null,
   "id": "50f22b7d",
   "metadata": {},
   "outputs": [],
   "source": [
    "accuracy_score = rf.score(x, y)\n",
    "print(\"Accuracy score = \"\"{:.2f}\".format(accuracy_score))"
   ]
  },
  {
   "cell_type": "markdown",
   "id": "0f79ad7b",
   "metadata": {},
   "source": [
    "In this case, the accuracy score is 1.00, which means that the model is accurately predicting the genre of a song  most of the time."
   ]
  },
  {
   "cell_type": "code",
   "execution_count": null,
   "id": "f9249b57",
   "metadata": {},
   "outputs": [],
   "source": [
    "# data_train.columns"
   ]
  },
  {
   "cell_type": "code",
   "execution_count": null,
   "id": "cd37087a",
   "metadata": {},
   "outputs": [],
   "source": [
    "# columns_imp = \n",
    "# feat_importances = pd.Series(rf.feature_importances_, index=data_train.columns)\n",
    "# feat_importances.nlargest(11).plot(kind='barh')"
   ]
  },
  {
   "cell_type": "markdown",
   "id": "e7bf27dd",
   "metadata": {},
   "source": [
    "<h2> Naive Base"
   ]
  },
  {
   "cell_type": "code",
   "execution_count": null,
   "id": "b3184e0a",
   "metadata": {},
   "outputs": [],
   "source": [
    "nbc = GaussianNB()\n",
    "nbc.fit(x,y)"
   ]
  },
  {
   "cell_type": "code",
   "execution_count": null,
   "id": "87e6eb47",
   "metadata": {},
   "outputs": [],
   "source": [
    "accuracy_score = nbc.score(x, y)\n",
    "print(\"Accuracy score = \"\"{:.2f}\".format(accuracy_score))"
   ]
  },
  {
   "cell_type": "markdown",
   "id": "f3cb0cd2",
   "metadata": {},
   "source": [
    "In this case, the accuracy score is 1.00, which means that this model is also predicting the genre of a song accurately most of the time."
   ]
  },
  {
   "cell_type": "markdown",
   "id": "2bbdb1da",
   "metadata": {},
   "source": [
    "<h2> Importing Test Data"
   ]
  },
  {
   "cell_type": "code",
   "execution_count": null,
   "id": "1d2d0388",
   "metadata": {},
   "outputs": [],
   "source": [
    "data_test = pd.read_csv(\"CS98XClassificationTest.csv\")"
   ]
  },
  {
   "cell_type": "code",
   "execution_count": null,
   "id": "b1ec3b97",
   "metadata": {},
   "outputs": [],
   "source": [
    "data_test.rename({'pop': 'popularity'}, axis=1, inplace=True)"
   ]
  },
  {
   "cell_type": "code",
   "execution_count": null,
   "id": "6b50e45e",
   "metadata": {},
   "outputs": [],
   "source": [
    "data_test['aud_mean']  = data_test[['bpm', 'dnce','dB','val','acous']].mean(axis=1)"
   ]
  },
  {
   "cell_type": "code",
   "execution_count": null,
   "id": "f44f32e9",
   "metadata": {},
   "outputs": [],
   "source": [
    "ot_columns = ['bpm','dnce','dB','live','val','dur','acous','spch','popularity']\n",
    "# data_test.boxplot(ot_columns)"
   ]
  },
  {
   "cell_type": "code",
   "execution_count": null,
   "id": "a38baa42",
   "metadata": {},
   "outputs": [],
   "source": [
    "dev = data_test['bpm'].quantile(0.50)\n",
    "ma = data_test['bpm'].quantile(0.90)\n",
    "print(dev,ma)\n",
    "data_test['bpm'] = np.where(data_test['bpm'] > ma, dev, data_test['bpm'])"
   ]
  },
  {
   "cell_type": "code",
   "execution_count": null,
   "id": "41c3eff1",
   "metadata": {},
   "outputs": [],
   "source": [
    "# data_test.boxplot(ot_columns)"
   ]
  },
  {
   "cell_type": "code",
   "execution_count": null,
   "id": "8277deda",
   "metadata": {},
   "outputs": [],
   "source": [
    "# data_test.head"
   ]
  },
  {
   "cell_type": "code",
   "execution_count": null,
   "id": "3b9151a6",
   "metadata": {},
   "outputs": [],
   "source": [
    "artist_stats = data_test.groupby(\"artist\").agg({\"bpm\": \"mean\", \"dnce\": \"mean\",\"dB\": \"mean\",\"val\": \"mean\"\n",
    "                                                   ,\"acous\": \"mean\"}).to_dict()\n",
    "data_test[\"artist_bpm_mean\"] = data_test[\"artist\"].map(artist_stats[\"bpm\"])\n",
    "data_test[\"artist_dnce_mean\"] = data_test[\"artist\"].map(artist_stats[\"dnce\"])\n",
    "data_test[\"artist_dB_mean\"] = data_test[\"artist\"].map(artist_stats[\"dB\"])\n",
    "data_test[\"artist_val_mean\"] = data_test[\"artist\"].map(artist_stats[\"val\"])\n",
    "data_test[\"artist_acous_mean\"] = data_test[\"artist\"].map(artist_stats[\"acous\"])"
   ]
  },
  {
   "cell_type": "code",
   "execution_count": null,
   "id": "7f758bcd",
   "metadata": {},
   "outputs": [],
   "source": [
    "data_test[scl_attr] = scaler.transform(data_test[scl_attr])"
   ]
  },
  {
   "cell_type": "code",
   "execution_count": null,
   "id": "75090be5",
   "metadata": {},
   "outputs": [],
   "source": [
    "# data_test.head"
   ]
  },
  {
   "cell_type": "markdown",
   "id": "f9214b69",
   "metadata": {},
   "source": [
    "# PCA on test data"
   ]
  },
  {
   "cell_type": "code",
   "execution_count": null,
   "id": "64fb5c50",
   "metadata": {},
   "outputs": [],
   "source": [
    "ot_columns = ['Id','title','artist','year', 'nrgy']\n",
    "x_pca = pca.transform(data_test[scl_attr])\n",
    "data_test = pd.concat([data_test[ot_columns].reset_index(drop=True), pd.DataFrame(x_pca)], axis='columns')\n",
    "# data_test.head"
   ]
  },
  {
   "cell_type": "code",
   "execution_count": null,
   "id": "b912527e",
   "metadata": {},
   "outputs": [],
   "source": [
    "data_test.drop(columns=['Id','title','nrgy'],axis=1,inplace=True)"
   ]
  },
  {
   "cell_type": "code",
   "execution_count": null,
   "id": "7e17c3f0",
   "metadata": {},
   "outputs": [],
   "source": [
    "oh_artist_t = oh.transform(data_test[[\"artist\"]]).toarray()\n",
    "data_test = pd.concat([data_test.reset_index(drop=True), pd.DataFrame(oh_artist_t)], axis='columns')\n",
    "data_test.drop(columns='artist',inplace=True)\n",
    "# data_test.head"
   ]
  },
  {
   "cell_type": "code",
   "execution_count": null,
   "id": "b48b07a9",
   "metadata": {},
   "outputs": [],
   "source": [
    "genre_preds = knn.predict(data_test)\n",
    "# genre_preds"
   ]
  },
  {
   "cell_type": "code",
   "execution_count": null,
   "id": "32a74a29",
   "metadata": {},
   "outputs": [],
   "source": [
    "# data_test.head"
   ]
  },
  {
   "cell_type": "code",
   "execution_count": null,
   "id": "d838923c",
   "metadata": {},
   "outputs": [],
   "source": [
    "data_sub = pd.read_csv(\"CS98XClassificationTest.csv\")\n",
    "spotify_submit = pd.DataFrame([data_sub.loc[:,\"Id\"]]).T"
   ]
  },
  {
   "cell_type": "code",
   "execution_count": null,
   "id": "5c116965",
   "metadata": {},
   "outputs": [],
   "source": [
    "spotify_submit['top genre'] = pd.DataFrame(genre_preds)\n",
    "# spotify_submit"
   ]
  },
  {
   "cell_type": "code",
   "execution_count": null,
   "id": "9d614472",
   "metadata": {},
   "outputs": [],
   "source": [
    "spotify_submit.to_csv('spotify_submit_preds_cl_knn.csv',index=False)"
   ]
  },
  {
   "cell_type": "markdown",
   "id": "9379802a",
   "metadata": {},
   "source": [
    "# Logistic Regression"
   ]
  },
  {
   "cell_type": "code",
   "execution_count": null,
   "id": "2c71ede6",
   "metadata": {},
   "outputs": [],
   "source": [
    "genre_preds_log = log.predict(data_test)"
   ]
  },
  {
   "cell_type": "code",
   "execution_count": null,
   "id": "6569d58e",
   "metadata": {},
   "outputs": [],
   "source": [
    "data_sub_log = pd.read_csv(\"CS98XClassificationTest.csv\")\n",
    "spotify_submit_log = pd.DataFrame([data_sub.loc[:,\"Id\"]]).T\n",
    "# spotify_submit_log['title'] = pd.DataFrame([data_sub_log.loc[:,\"title\"]]).T\n",
    "spotify_submit_log['top genre'] = pd.DataFrame(genre_preds_log)\n",
    "spotify_submit.to_csv('spotify_submit_preds_cl_log.csv',index=False)"
   ]
  },
  {
   "cell_type": "markdown",
   "id": "9ecdb6a5",
   "metadata": {},
   "source": [
    "# Random Forest"
   ]
  },
  {
   "cell_type": "code",
   "execution_count": null,
   "id": "dcf5d1dc",
   "metadata": {},
   "outputs": [],
   "source": [
    "genre_preds_rf = rf.predict(data_test)\n",
    "# genre_preds_rf"
   ]
  },
  {
   "cell_type": "code",
   "execution_count": null,
   "id": "4062f025",
   "metadata": {},
   "outputs": [],
   "source": [
    "data_sub_rf = pd.read_csv(\"CS98XClassificationTest.csv\")\n",
    "spotify_submit_rf = pd.DataFrame([data_sub.loc[:,\"Id\"]]).T\n",
    "# spotify_submit_rf['title'] = pd.DataFrame([data_sub_rf.loc[:,\"title\"]]).T\n",
    "spotify_submit_rf['top genre'] = pd.DataFrame(genre_preds_rf)\n",
    "spotify_submit_rf.to_csv('spotify_submit_preds_cl_rf.csv',index=False)"
   ]
  },
  {
   "cell_type": "markdown",
   "id": "9abea02c",
   "metadata": {},
   "source": [
    "# Naive Base"
   ]
  },
  {
   "cell_type": "code",
   "execution_count": null,
   "id": "580327bc",
   "metadata": {},
   "outputs": [],
   "source": [
    "genre_preds_nbc = nbc.predict(data_test)\n",
    "# genre_preds_nbc"
   ]
  },
  {
   "cell_type": "code",
   "execution_count": null,
   "id": "632e66ed",
   "metadata": {},
   "outputs": [],
   "source": [
    "data_sub_nbc = pd.read_csv(\"CS98XClassificationTest.csv\")\n",
    "spotify_submit_nbc = pd.DataFrame([data_sub_nbc.loc[:,\"Id\"]]).T\n",
    "spotify_submit_nbc['top genre'] = pd.DataFrame(genre_preds_nbc)\n",
    "spotify_submit_nbc.to_csv('spotify_submit_preds_cl_nbc.csv',index=False)"
   ]
  },
  {
   "cell_type": "markdown",
   "id": "5ed41cdd",
   "metadata": {},
   "source": [
    "# Conclusion"
   ]
  },
  {
   "cell_type": "markdown",
   "id": "938f7c5a",
   "metadata": {},
   "source": [
    "- We implemented the same models for the test data as well and while comparing and contrasting the accuracy result from the Kaggle Classifier Competition (i.e., 0.51785) which we believe it is a good score as per our conclusion"
   ]
  }
 ],
 "metadata": {
  "kernelspec": {
   "display_name": "Python 3 (ipykernel)",
   "language": "python",
   "name": "python3"
  },
  "language_info": {
   "codemirror_mode": {
    "name": "ipython",
    "version": 3
   },
   "file_extension": ".py",
   "mimetype": "text/x-python",
   "name": "python",
   "nbconvert_exporter": "python",
   "pygments_lexer": "ipython3",
   "version": "3.9.12"
  },
  "toc": {
   "base_numbering": 1,
   "nav_menu": {},
   "number_sections": false,
   "sideBar": false,
   "skip_h1_title": false,
   "title_cell": "Table of Contents",
   "title_sidebar": "Contents",
   "toc_cell": false,
   "toc_position": {},
   "toc_section_display": false,
   "toc_window_display": false
  }
 },
 "nbformat": 4,
 "nbformat_minor": 5
}
