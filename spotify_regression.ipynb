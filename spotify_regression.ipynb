{
 "cells": [
  {
   "cell_type": "markdown",
   "id": "bbace31a",
   "metadata": {},
   "source": [
    "# GROUP 16 - Assignment (CS986 Fundamentals of Machine Learning)"
   ]
  },
  {
   "cell_type": "markdown",
   "id": "55aecaf1",
   "metadata": {},
   "source": [
    "Team Members\n",
    "- Arsha Theresa Jimmy (202281102)\n",
    "- Lalith Vignesh Balasubramaniam (202254365)\n",
    "- Prashant Ronsa (202251507)\n",
    "- Reshma Sooraj (202268201)\n",
    "- Sidharth Warrier Sasthangal (202288220)\n",
    "- Vaisakh Constantine Francis (202252228)"
   ]
  },
  {
   "cell_type": "markdown",
   "id": "226a493a",
   "metadata": {},
   "source": [
    "# Kaggle Competition | CS986 Spotify Problem 2023"
   ]
  },
  {
   "cell_type": "markdown",
   "id": "1b667627",
   "metadata": {},
   "source": [
    "Music is an important part of human life because it serves as a tool for entertainment, relaxation, and communication. The introduction of digital music streaming platforms, particularly Spotify, has revolutionised the music industry in recent years, allowing music fans worldwide easy access to millions of songs."
   ]
  },
  {
   "cell_type": "markdown",
   "id": "45a5f68f",
   "metadata": {},
   "source": [
    "<h4> Objective of the report is to focus of the below mentioed two points"
   ]
  },
  {
   "cell_type": "markdown",
   "id": "af5d0332",
   "metadata": {},
   "source": [
    "- Regression problem that aims to predict the popularity score of a song"
   ]
  },
  {
   "cell_type": "markdown",
   "id": "f2d9cbee",
   "metadata": {},
   "source": [
    "This Notebook will provide fundamental explanations of:\n",
    "\n",
    "- Data Handling\n",
    "- Machine learning Techniques such as: Linear Regression, PCA, Decision Tree, Random Forest, SVM, Naive Base\n",
    "- Libraries used: NumPy, Pandas, SciKit-Learn, Matplotlib, OneHotEncoder, RobustScaler, StandardScaler, Metrics, Seaborn, Scipy, Sklearn.decomposition"
   ]
  },
  {
   "cell_type": "markdown",
   "id": "c8a29b36",
   "metadata": {},
   "source": [
    "# First problem statement - \"Regression Problem to predict the popularity score of a song\""
   ]
  },
  {
   "cell_type": "markdown",
   "id": "65d3ed46",
   "metadata": {},
   "source": [
    "Importing libraries & Regression Train dataset csv file required for the analysis"
   ]
  },
  {
   "cell_type": "markdown",
   "id": "52e372c5",
   "metadata": {},
   "source": [
    "Read the contents of the CS98XRegressionTrain.csv CSV file and create a DataFrame object named 'data' that contains the file's contents. The main goal in selecting song features was to consider all elements that comprise a song's popularity and analyze the impact of the features on song popularity."
   ]
  },
  {
   "cell_type": "code",
   "execution_count": 1,
   "id": "76c608ce",
   "metadata": {},
   "outputs": [],
   "source": [
    "import numpy as np\n",
    "import pandas as pd\n",
    "import seaborn as sns\n",
    "import matplotlib.pyplot as plt\n",
    "from sklearn.preprocessing import OneHotEncoder,OrdinalEncoder,RobustScaler, StandardScaler\n",
    "from sklearn import metrics\n",
    "import seaborn as sns\n",
    "from scipy import stats\n",
    "from scipy.stats import norm, skew #for some statistics\n",
    "from sklearn.decomposition import PCA\n",
    "from sklearn.ensemble import RandomForestClassifier  \n",
    "from sklearn.tree import DecisionTreeClassifier \n",
    "from sklearn.inspection import permutation_importance\n",
    "from scipy.stats.mstats import winsorize\n",
    "from sklearn.naive_bayes import GaussianNB\n",
    "import warnings\n",
    "warnings.filterwarnings('ignore')"
   ]
  },
  {
   "cell_type": "code",
   "execution_count": 2,
   "id": "57d75ea4",
   "metadata": {},
   "outputs": [
    {
     "data": {
      "text/plain": [
       "(453, 15)"
      ]
     },
     "execution_count": 2,
     "metadata": {},
     "output_type": "execute_result"
    }
   ],
   "source": [
    "data = pd.read_csv(\"CS98XRegressionTrain.csv\")\n",
    "data.shape"
   ]
  },
  {
   "cell_type": "markdown",
   "id": "131b3f44",
   "metadata": {},
   "source": [
    "- From this we can gather that the data contains 15 columns (features) & 453 rows (tuples)"
   ]
  },
  {
   "cell_type": "markdown",
   "id": "edfecddd",
   "metadata": {},
   "source": [
    "<h4> Renaming 'popularity' column to 'pop'"
   ]
  },
  {
   "cell_type": "code",
   "execution_count": 3,
   "id": "d4b53586",
   "metadata": {},
   "outputs": [],
   "source": [
    "data.rename({'pop': 'popularity'}, axis=1, inplace=True)"
   ]
  },
  {
   "cell_type": "markdown",
   "id": "45788cfa",
   "metadata": {},
   "source": [
    "<h4> Checking if there are any duplicate & null values"
   ]
  },
  {
   "cell_type": "code",
   "execution_count": 4,
   "id": "d532e8c3",
   "metadata": {
    "scrolled": true
   },
   "outputs": [
    {
     "name": "stdout",
     "output_type": "stream",
     "text": [
      "Number of duplicate values 0\n",
      "\n",
      "Number of null for each column values \n",
      "\n",
      "Id             0\n",
      "title          0\n",
      "artist         0\n",
      "top genre     15\n",
      "year           0\n",
      "bpm            0\n",
      "nrgy           0\n",
      "dnce           0\n",
      "dB             0\n",
      "live           0\n",
      "val            0\n",
      "dur            0\n",
      "acous          0\n",
      "spch           0\n",
      "popularity     0\n",
      "dtype: int64\n"
     ]
    }
   ],
   "source": [
    "print(f'Number of duplicate values {data.duplicated().sum()}\\n')\n",
    "print(f'Number of null for each column values \\n\\n{data.isnull().sum()}')"
   ]
  },
  {
   "cell_type": "markdown",
   "id": "d553186e",
   "metadata": {},
   "source": [
    "- Column 'top genre' has different genre information all songs & since there are null values in column, we're going to fill missing values with the string \"unassigned\""
   ]
  },
  {
   "cell_type": "code",
   "execution_count": 5,
   "id": "288e6cd8",
   "metadata": {},
   "outputs": [
    {
     "name": "stdout",
     "output_type": "stream",
     "text": [
      "Number of null for each column values \n",
      "\n",
      "0\n"
     ]
    }
   ],
   "source": [
    "data['top genre'] = data['top genre'].fillna('unassigned')\n",
    "print(f'Number of null for each column values \\n\\n{data.isnull().values.sum()}')"
   ]
  },
  {
   "cell_type": "markdown",
   "id": "4aa9a0e9",
   "metadata": {},
   "source": [
    "- This tells that we don't have any null values now"
   ]
  },
  {
   "cell_type": "markdown",
   "id": "76ef9a83",
   "metadata": {},
   "source": [
    "# Exploratory Data Analysis"
   ]
  },
  {
   "cell_type": "markdown",
   "id": "e1da306d",
   "metadata": {},
   "source": [
    "Before moving on to prediction, first we will try to gather some information from that available data with some exploratory data analysis"
   ]
  },
  {
   "cell_type": "markdown",
   "id": "08a787f1",
   "metadata": {},
   "source": [
    "<h3> Checking the highest popularity score for the song"
   ]
  },
  {
   "cell_type": "code",
   "execution_count": 6,
   "id": "ed850e3e",
   "metadata": {},
   "outputs": [
    {
     "data": {
      "text/html": [
       "<div>\n",
       "<style scoped>\n",
       "    .dataframe tbody tr th:only-of-type {\n",
       "        vertical-align: middle;\n",
       "    }\n",
       "\n",
       "    .dataframe tbody tr th {\n",
       "        vertical-align: top;\n",
       "    }\n",
       "\n",
       "    .dataframe thead th {\n",
       "        text-align: right;\n",
       "    }\n",
       "</style>\n",
       "<table border=\"1\" class=\"dataframe\">\n",
       "  <thead>\n",
       "    <tr style=\"text-align: right;\">\n",
       "      <th></th>\n",
       "      <th>Id</th>\n",
       "      <th>title</th>\n",
       "      <th>artist</th>\n",
       "      <th>top genre</th>\n",
       "      <th>year</th>\n",
       "      <th>bpm</th>\n",
       "      <th>nrgy</th>\n",
       "      <th>dnce</th>\n",
       "      <th>dB</th>\n",
       "      <th>live</th>\n",
       "      <th>val</th>\n",
       "      <th>dur</th>\n",
       "      <th>acous</th>\n",
       "      <th>spch</th>\n",
       "      <th>popularity</th>\n",
       "    </tr>\n",
       "  </thead>\n",
       "  <tbody>\n",
       "    <tr>\n",
       "      <th>294</th>\n",
       "      <td>295</td>\n",
       "      <td>Bohemian Rhapsody - 2011 Mix</td>\n",
       "      <td>Queen</td>\n",
       "      <td>glam rock</td>\n",
       "      <td>1975</td>\n",
       "      <td>71</td>\n",
       "      <td>40</td>\n",
       "      <td>41</td>\n",
       "      <td>-10</td>\n",
       "      <td>30</td>\n",
       "      <td>22</td>\n",
       "      <td>354</td>\n",
       "      <td>27</td>\n",
       "      <td>5</td>\n",
       "      <td>84</td>\n",
       "    </tr>\n",
       "    <tr>\n",
       "      <th>234</th>\n",
       "      <td>235</td>\n",
       "      <td>The Scientist</td>\n",
       "      <td>Coldplay</td>\n",
       "      <td>permanent wave</td>\n",
       "      <td>2002</td>\n",
       "      <td>146</td>\n",
       "      <td>44</td>\n",
       "      <td>56</td>\n",
       "      <td>-7</td>\n",
       "      <td>11</td>\n",
       "      <td>21</td>\n",
       "      <td>310</td>\n",
       "      <td>73</td>\n",
       "      <td>2</td>\n",
       "      <td>83</td>\n",
       "    </tr>\n",
       "    <tr>\n",
       "      <th>263</th>\n",
       "      <td>264</td>\n",
       "      <td>Africa</td>\n",
       "      <td>TOTO</td>\n",
       "      <td>album rock</td>\n",
       "      <td>1982</td>\n",
       "      <td>93</td>\n",
       "      <td>37</td>\n",
       "      <td>67</td>\n",
       "      <td>-18</td>\n",
       "      <td>5</td>\n",
       "      <td>73</td>\n",
       "      <td>296</td>\n",
       "      <td>26</td>\n",
       "      <td>3</td>\n",
       "      <td>83</td>\n",
       "    </tr>\n",
       "    <tr>\n",
       "      <th>337</th>\n",
       "      <td>338</td>\n",
       "      <td>Here Comes The Sun - Remastered 2009</td>\n",
       "      <td>The Beatles</td>\n",
       "      <td>british invasion</td>\n",
       "      <td>1969</td>\n",
       "      <td>129</td>\n",
       "      <td>54</td>\n",
       "      <td>56</td>\n",
       "      <td>-10</td>\n",
       "      <td>18</td>\n",
       "      <td>39</td>\n",
       "      <td>186</td>\n",
       "      <td>3</td>\n",
       "      <td>3</td>\n",
       "      <td>82</td>\n",
       "    </tr>\n",
       "    <tr>\n",
       "      <th>162</th>\n",
       "      <td>163</td>\n",
       "      <td>Another One Bites The Dust - Remastered 2011</td>\n",
       "      <td>Queen</td>\n",
       "      <td>glam rock</td>\n",
       "      <td>1980</td>\n",
       "      <td>110</td>\n",
       "      <td>53</td>\n",
       "      <td>93</td>\n",
       "      <td>-6</td>\n",
       "      <td>16</td>\n",
       "      <td>75</td>\n",
       "      <td>215</td>\n",
       "      <td>11</td>\n",
       "      <td>16</td>\n",
       "      <td>82</td>\n",
       "    </tr>\n",
       "  </tbody>\n",
       "</table>\n",
       "</div>"
      ],
      "text/plain": [
       "      Id                                         title       artist  \\\n",
       "294  295                  Bohemian Rhapsody - 2011 Mix        Queen   \n",
       "234  235                                 The Scientist     Coldplay   \n",
       "263  264                                        Africa         TOTO   \n",
       "337  338          Here Comes The Sun - Remastered 2009  The Beatles   \n",
       "162  163  Another One Bites The Dust - Remastered 2011        Queen   \n",
       "\n",
       "            top genre  year  bpm  nrgy  dnce  dB  live  val  dur  acous  spch  \\\n",
       "294         glam rock  1975   71    40    41 -10    30   22  354     27     5   \n",
       "234    permanent wave  2002  146    44    56  -7    11   21  310     73     2   \n",
       "263        album rock  1982   93    37    67 -18     5   73  296     26     3   \n",
       "337  british invasion  1969  129    54    56 -10    18   39  186      3     3   \n",
       "162         glam rock  1980  110    53    93  -6    16   75  215     11    16   \n",
       "\n",
       "     popularity  \n",
       "294          84  \n",
       "234          83  \n",
       "263          83  \n",
       "337          82  \n",
       "162          82  "
      ]
     },
     "execution_count": 6,
     "metadata": {},
     "output_type": "execute_result"
    }
   ],
   "source": [
    "pop_data = data.sort_values('popularity', ascending=False)\n",
    "pop_data.head()"
   ]
  },
  {
   "cell_type": "markdown",
   "id": "c3b72127",
   "metadata": {},
   "source": [
    "- The above table provides information that the top popularity score for the songs in the dataset, with 'Bohemian Rhapsody - 2011 Mix' from the artist 'Queen' at a popularity score of 84, which is under the genre 'glam rock' originally released in the year 1975.\n",
    "- Followed by the artists such as Coldplay, TOTO with popularity score of 83 & The Beatles with popularity score of 82\n",
    "- Also, Queen has two songs with high popularity score of 84 & 82\n",
    "- The lowest popularity score for any artist in the dataset is 26"
   ]
  },
  {
   "cell_type": "code",
   "execution_count": 7,
   "id": "579dfc82",
   "metadata": {},
   "outputs": [
    {
     "data": {
      "text/plain": [
       "<Figure size 432x432 with 0 Axes>"
      ]
     },
     "metadata": {},
     "output_type": "display_data"
    },
    {
     "data": {
      "image/png": "[encoded data removed]",
      "text/plain": [
       "<Figure size 360x360 with 1 Axes>"
      ]
     },
     "metadata": {
      "needs_background": "light"
     },
     "output_type": "display_data"
    }
   ],
   "source": [
    "plt.figure(figsize=(6,6))\n",
    "sns.displot(data['popularity'])\n",
    "plt.title('Popularity Distribution')\n",
    "plt.show()"
   ]
  },
  {
   "cell_type": "markdown",
   "id": "f497ca0e",
   "metadata": {},
   "source": [
    "<h3> In order to predict the popularity score of a song, we're going to check the correlation of popularity with other features of the dataset"
   ]
  },
  {
   "cell_type": "markdown",
   "id": "c53b13ae",
   "metadata": {},
   "source": [
    "Checking Correlation will help us identify if there are any features that are responsible for influencing the popularity score of a song in this dataset\n",
    "\n",
    "Plotting a heatmap visualization of the correlation matrix for the DataFrame 'data'"
   ]
  },
  {
   "cell_type": "code",
   "execution_count": 8,
   "id": "8afa671d",
   "metadata": {
    "scrolled": false
   },
   "outputs": [
    {
     "data": {
      "text/plain": [
       "<AxesSubplot:>"
      ]
     },
     "execution_count": 8,
     "metadata": {},
     "output_type": "execute_result"
    },
    {
     "data": {
      "image/png": "[encoded data removed]",
      "text/plain": [
       "<Figure size 576x504 with 2 Axes>"
      ]
     },
     "metadata": {
      "needs_background": "light"
     },
     "output_type": "display_data"
    }
   ],
   "source": [
    "plt.figure(figsize=(8,7))\n",
    "sns.heatmap(data.corr(),annot=True,cmap='viridis')"
   ]
  },
  {
   "cell_type": "markdown",
   "id": "b74bb554",
   "metadata": {},
   "source": [
    "- The heatmap visualisation above depicts the correlations between all the features in the DataFrame, with lighter colour representing higher correlation values and darker colour having negative correlation.\n",
    "- Features dur, dB, and nrgy were found to have a high positive correlation with target variable popularity.\n",
    "- Features 'live', 'val' 'year', 'acous', 'spch' & 'bpm have negative corelation to popularity."
   ]
  },
  {
   "cell_type": "code",
   "execution_count": 9,
   "id": "df79d7f0",
   "metadata": {},
   "outputs": [
    {
     "data": {
      "text/plain": [
       "<AxesSubplot:xlabel='Year', ylabel='Popularity Mean'>"
      ]
     },
     "execution_count": 9,
     "metadata": {},
     "output_type": "execute_result"
    },
    {
     "data": {
      "image/png": "[encoded data removed]",
      "text/plain": [
       "<Figure size 432x288 with 1 Axes>"
      ]
     },
     "metadata": {
      "needs_background": "light"
     },
     "output_type": "display_data"
    }
   ],
   "source": [
    "pop_mean = data.groupby('year').agg({\"popularity\": \"mean\"})\n",
    "pop_mean.plot(xlabel=\"Year\",ylabel=\"Popularity Mean\") "
   ]
  },
  {
   "cell_type": "markdown",
   "id": "c22916aa",
   "metadata": {},
   "source": [
    "In the above trend gragh between popularity and year it can be clearly visualised that there is clear relationship between year and popularity which should be further explored."
   ]
  },
  {
   "cell_type": "markdown",
   "id": "a7959a10",
   "metadata": {},
   "source": [
    "# Pre-processing and feature engineering"
   ]
  },
  {
   "cell_type": "markdown",
   "id": "a81c080e",
   "metadata": {},
   "source": [
    "Id and title column can be dropped since they don't have much reation to popularity. However, title can be used to check the mood of the song which might affect popularity of the song."
   ]
  },
  {
   "cell_type": "code",
   "execution_count": 10,
   "id": "fbf4c146",
   "metadata": {},
   "outputs": [],
   "source": [
    "data.drop(['Id','title'],axis=1,inplace=True)"
   ]
  },
  {
   "cell_type": "markdown",
   "id": "b0abbdea",
   "metadata": {},
   "source": [
    "<h3> Splitting genre column"
   ]
  },
  {
   "cell_type": "markdown",
   "id": "154b05d4",
   "metadata": {},
   "source": [
    "We can use the genre colum and split the song's genre to it's core. This allows us to analyze the data more effectively, build more accurate models, and make the data more consistent."
   ]
  },
  {
   "cell_type": "code",
   "execution_count": 11,
   "id": "b2934c5f",
   "metadata": {
    "scrolled": false
   },
   "outputs": [],
   "source": [
    "genre = (data[\"top genre\"].str.strip()).str.lower()\n",
    "gen = genre.str.split(\" \",0)\n",
    "new_genre = []\n",
    "for i in gen:\n",
    "    new_genre.append(i[-1])\n",
    "new_genre=np.array(new_genre)\n",
    "data['genre'] = new_genre.tolist()\n",
    "data.drop(columns=['top genre'],axis=1,inplace=True)"
   ]
  },
  {
   "cell_type": "markdown",
   "id": "0a0b358f",
   "metadata": {},
   "source": [
    "- Grouping infrequent genres in a DataFrame's 'genre' column into a single category called 'others'. This is accomplished by identifying all genres that appear less than three times in the column and replacing them with 'others'. This method has the potential to simplify the analysis of a dataset that contains a large number of infrequent categories in a column."
   ]
  },
  {
   "cell_type": "code",
   "execution_count": 12,
   "id": "92562af8",
   "metadata": {},
   "outputs": [],
   "source": [
    "v = data['genre'].value_counts()\n",
    "data.loc[data['genre'].isin(v[v<3].index), 'genre'] = 'others'"
   ]
  },
  {
   "cell_type": "markdown",
   "id": "4106501f",
   "metadata": {},
   "source": [
    "<h3> Outlier Check"
   ]
  },
  {
   "cell_type": "code",
   "execution_count": 13,
   "id": "9e4ee588",
   "metadata": {},
   "outputs": [
    {
     "data": {
      "text/plain": [
       "<AxesSubplot:>"
      ]
     },
     "execution_count": 13,
     "metadata": {},
     "output_type": "execute_result"
    },
    {
     "data": {
      "image/png": "[encoded data removed]",
      "text/plain": [
       "<Figure size 432x288 with 1 Axes>"
      ]
     },
     "metadata": {
      "needs_background": "light"
     },
     "output_type": "display_data"
    }
   ],
   "source": [
    "scl_attr = [ 'bpm', 'nrgy', 'dnce', 'dB', 'live', 'val', 'dur',\n",
    "       'acous', 'spch']\n",
    "data.boxplot(scl_attr)"
   ]
  },
  {
   "cell_type": "markdown",
   "id": "dbd0e7d2",
   "metadata": {},
   "source": [
    "It can be observed that there are many outliers particularly in duration as well as liveness, It was decided not to remove the outliers from the dataset, as it would reduce the sample size, in addition, it would also cause sampling bias, would affect the distribution and finally it would also affect the data completeness."
   ]
  },
  {
   "cell_type": "markdown",
   "id": "1642322e",
   "metadata": {},
   "source": [
    "<h2> Feature Engineering"
   ]
  },
  {
   "cell_type": "markdown",
   "id": "f1cd2838",
   "metadata": {},
   "source": [
    "To calculate the mean values of the \"nrgy\", \"dnce\", \"dB\", \"acous\", and \"spch\" columns for each artist in the dataset and create new features in the dataset that contain the mapped mean values for each artist. This technique can be useful for feature engineering in machine learning models that predict song popularity or other metrics based on artist characteristics."
   ]
  },
  {
   "cell_type": "markdown",
   "id": "f8bf5c67",
   "metadata": {},
   "source": [
    "<h3> Transforming 'artist' column on the basis of value counts of artists"
   ]
  },
  {
   "cell_type": "code",
   "execution_count": 14,
   "id": "558fc29a",
   "metadata": {},
   "outputs": [],
   "source": [
    "count = data['artist'].value_counts()\n",
    "data['value_count'] = data['artist'].apply(lambda x: count[x])\n",
    "data['artist'] = data['value_count'].apply(lambda x: round(x/7,2))\n",
    "data.drop(columns=['value_count'],axis=1,inplace=True)"
   ]
  },
  {
   "cell_type": "markdown",
   "id": "2b1e1ebd",
   "metadata": {},
   "source": [
    "Data in artist column is converted based on the number of times an artist appear in the dataset. It is helpful for the model to look into the importance if artist within the datset."
   ]
  },
  {
   "cell_type": "code",
   "execution_count": 15,
   "id": "f7b076f3",
   "metadata": {},
   "outputs": [],
   "source": [
    "data['dur'] = np.log2(data['dur'])\n",
    "data['nrgy'] = np.log2(data['nrgy'])\n",
    "data['bpm'] = np.log2(data['bpm'])\n",
    "# data.head"
   ]
  },
  {
   "cell_type": "markdown",
   "id": "dcadbc60",
   "metadata": {},
   "source": [
    "while checking the correlation and the linearity of features duration, energy and bpm with label popularity in the exploratory data analysis stage it was noticed that the former features exhibhited non linearity. It was important to transform the features, for this purpose we employed \n",
    "1. Boxcox Transformation\n",
    "2. Quantile Transformation\n",
    "3. Square root transformation \n",
    "4. Log Transform\n",
    "##### after acessing and checking the improvement in linearity as well as correlation, it was decided to adopt log transformation to the features which improved the model prediction."
   ]
  },
  {
   "cell_type": "markdown",
   "id": "ffebf520",
   "metadata": {},
   "source": [
    "<h3> Scale audio attributes"
   ]
  },
  {
   "cell_type": "code",
   "execution_count": 16,
   "id": "3079a53c",
   "metadata": {},
   "outputs": [],
   "source": [
    "scl_attr = ['artist','year', 'bpm', 'nrgy', 'dnce', 'dB', 'live', 'val', 'dur',\n",
    "       'acous', 'spch']\n",
    "scaler = StandardScaler()\n",
    "std_df = scaler.fit(data[scl_attr])\n",
    "std_df_scaled = scaler.transform(data[scl_attr])\n",
    "data[scl_attr] = pd.DataFrame(std_df_scaled)"
   ]
  },
  {
   "cell_type": "markdown",
   "id": "7f4ebb87",
   "metadata": {},
   "source": [
    "After careful inspection we observed that there is a considerable scale difference between different features, Moreover it was very intuitive to apply a scaler to transform the features and label, owing to the fact that most of machine learning algorithms are very sensitive to data, and its better to scale before employing any algorithm. for this purpose we employed standard scaler which substracts the mean of the feature from each observation and it is divided by its standard deviation, which keeps the feature centred around 0."
   ]
  },
  {
   "cell_type": "markdown",
   "id": "61c0ee40",
   "metadata": {},
   "source": [
    "# Transformation"
   ]
  },
  {
   "cell_type": "markdown",
   "id": "a7da6ef0",
   "metadata": {},
   "source": [
    "# Principal Component Analysis (PCA)"
   ]
  },
  {
   "cell_type": "code",
   "execution_count": 17,
   "id": "f81a2b44",
   "metadata": {},
   "outputs": [],
   "source": [
    "pca = PCA(n_components=5)\n",
    "x_pca = pca.fit_transform(data[scl_attr])"
   ]
  },
  {
   "cell_type": "markdown",
   "id": "c6f65dd3",
   "metadata": {},
   "source": [
    "This code performs PCA (Principal Component Analysis) on the selected features in the 'data' dataframe. Then components parameter is set to 5, which means that the algorithm will reduce the dimensionality of the selected features to 5 principal components.\n",
    "\n",
    "\n",
    "By reducing the dimensionality of a dataset, PCA can help to simplify the data and make it easier to analyze. It can also be used to visualize high-dimensional data in a lower-dimensional space, as well as to remove noise and redundant information from a dataset."
   ]
  },
  {
   "cell_type": "code",
   "execution_count": 18,
   "id": "b4ef425e",
   "metadata": {},
   "outputs": [],
   "source": [
    "x_data = data[[]]"
   ]
  },
  {
   "cell_type": "code",
   "execution_count": 19,
   "id": "32743cba",
   "metadata": {},
   "outputs": [],
   "source": [
    "data = pd.concat([data[['popularity','genre']].reset_index(drop=True), pd.DataFrame(x_pca)], axis='columns')\n",
    "# data.head"
   ]
  },
  {
   "cell_type": "markdown",
   "id": "c5300cd9",
   "metadata": {},
   "source": [
    "# OneHot Encoder"
   ]
  },
  {
   "cell_type": "markdown",
   "id": "1a2919b9",
   "metadata": {},
   "source": [
    "Perform one-hot encoding on the 'genre' column of DataFrame named 'data'. One-hot encoding is a process of converting categorical data into a binary representation that can be used for machine learning models.\n",
    "\n",
    "\n",
    "We tried One-hot encoding vs Label encoding and On-hot encoding seems to be performing better for the model accuracy."
   ]
  },
  {
   "cell_type": "code",
   "execution_count": 20,
   "id": "e5832b26",
   "metadata": {},
   "outputs": [],
   "source": [
    "oh = OneHotEncoder(handle_unknown='ignore')\n",
    "oh_genre = pd.DataFrame(oh.fit_transform(data[[\"genre\"]]).toarray())\n",
    "data = pd.concat([data.reset_index(drop=True), pd.DataFrame(oh_genre)], axis='columns')\n",
    "data.drop(columns='genre',inplace=True)"
   ]
  },
  {
   "cell_type": "markdown",
   "id": "8aa213bd",
   "metadata": {},
   "source": [
    "<h2> Seperation of features and target variables"
   ]
  },
  {
   "cell_type": "markdown",
   "id": "48e46a59",
   "metadata": {},
   "source": [
    "In the dataset all the independent variables(features) are stored into x and the predicted dependent variable popularity is stored in y. This is employed to fit x and y while training the model with machine learning algorithms."
   ]
  },
  {
   "cell_type": "code",
   "execution_count": 21,
   "id": "989eac05",
   "metadata": {},
   "outputs": [],
   "source": [
    "x= data.loc[:, data.columns != 'popularity']\n",
    "y = data[['popularity']]\n",
    "#x.head"
   ]
  },
  {
   "cell_type": "markdown",
   "id": "7531fb19",
   "metadata": {},
   "source": [
    "# Linear Regression Model"
   ]
  },
  {
   "cell_type": "markdown",
   "id": "6145b493",
   "metadata": {},
   "source": [
    "To perform linear regression modeling using the scikit-learn library. The instance 'clf' will be used to train and make predictions using the linear regression model. Then the linear regression model is trained using the input features in 'x' and the target variable in 'y'."
   ]
  },
  {
   "cell_type": "code",
   "execution_count": 22,
   "id": "3380f525",
   "metadata": {},
   "outputs": [
    {
     "data": {
      "text/plain": [
       "LinearRegression()"
      ]
     },
     "execution_count": 22,
     "metadata": {},
     "output_type": "execute_result"
    }
   ],
   "source": [
    "from sklearn.linear_model import LinearRegression\n",
    "clf = LinearRegression()\n",
    "clf.fit(x,y)"
   ]
  },
  {
   "cell_type": "code",
   "execution_count": 23,
   "id": "fea4c790",
   "metadata": {},
   "outputs": [
    {
     "name": "stdout",
     "output_type": "stream",
     "text": [
      "0.43206351662283105\n"
     ]
    }
   ],
   "source": [
    "print(clf.score(x,y))"
   ]
  },
  {
   "cell_type": "code",
   "execution_count": 24,
   "id": "73af59da",
   "metadata": {},
   "outputs": [
    {
     "name": "stdout",
     "output_type": "stream",
     "text": [
      "10.14005399814071\n"
     ]
    }
   ],
   "source": [
    "y_train_pred = clf.predict(x)\n",
    "rmse = metrics.mean_squared_error(y, y_train_pred, squared=False)\n",
    "print(rmse)"
   ]
  },
  {
   "cell_type": "code",
   "execution_count": 25,
   "id": "caaeff5e",
   "metadata": {
    "scrolled": true
   },
   "outputs": [
    {
     "data": {
      "text/plain": [
       "array([[51.13773566],\n",
       "       [38.87943735],\n",
       "       [60.90464645],\n",
       "       [58.03617064],\n",
       "       [71.94019193],\n",
       "       [65.98048499],\n",
       "       [63.93998809],\n",
       "       [65.075325  ],\n",
       "       [29.77127595],\n",
       "       [47.56978931],\n",
       "       [63.00788234],\n",
       "       [81.39805467],\n",
       "       [57.52179829],\n",
       "       [44.52942557],\n",
       "       [53.42353597],\n",
       "       [51.68125242],\n",
       "       [59.80091211],\n",
       "       [61.00999677],\n",
       "       [59.04069804],\n",
       "       [61.02491827],\n",
       "       [61.38307177],\n",
       "       [62.33061176],\n",
       "       [65.42614406],\n",
       "       [60.00384042],\n",
       "       [49.01235783],\n",
       "       [61.75613321],\n",
       "       [32.10602763],\n",
       "       [56.24641221],\n",
       "       [49.17630312],\n",
       "       [69.14045788],\n",
       "       [65.02319955],\n",
       "       [67.87044364],\n",
       "       [61.09008338],\n",
       "       [69.28307624],\n",
       "       [50.8759049 ],\n",
       "       [45.57322809],\n",
       "       [65.56661457],\n",
       "       [68.76735255],\n",
       "       [63.68032383],\n",
       "       [73.97412587],\n",
       "       [65.23993424],\n",
       "       [64.95319276],\n",
       "       [53.3797617 ],\n",
       "       [66.21717694],\n",
       "       [58.18921763],\n",
       "       [65.54995436],\n",
       "       [53.3797617 ],\n",
       "       [64.86510427],\n",
       "       [64.35516802],\n",
       "       [63.2370991 ],\n",
       "       [59.3683308 ],\n",
       "       [64.17230279],\n",
       "       [63.92178147],\n",
       "       [63.79362695],\n",
       "       [73.22564669],\n",
       "       [48.78586771],\n",
       "       [65.58288889],\n",
       "       [47.15602384],\n",
       "       [65.44638584],\n",
       "       [67.93036776],\n",
       "       [63.49518792],\n",
       "       [56.16742187],\n",
       "       [68.2015585 ],\n",
       "       [45.34042067],\n",
       "       [70.20593975],\n",
       "       [63.98545158],\n",
       "       [64.52240103],\n",
       "       [55.670813  ],\n",
       "       [47.06773527],\n",
       "       [67.85627932],\n",
       "       [53.68891669],\n",
       "       [59.31165413],\n",
       "       [34.25362273],\n",
       "       [55.62656533],\n",
       "       [65.36185179],\n",
       "       [65.26615964],\n",
       "       [61.67330242],\n",
       "       [56.56057547],\n",
       "       [42.43051668],\n",
       "       [67.04008788],\n",
       "       [60.05652499],\n",
       "       [46.15715109],\n",
       "       [64.63095306],\n",
       "       [53.74858203],\n",
       "       [62.95941989],\n",
       "       [68.70597422],\n",
       "       [64.16108268],\n",
       "       [44.79738007],\n",
       "       [53.78272315],\n",
       "       [60.48552256],\n",
       "       [36.75233545],\n",
       "       [60.83279101],\n",
       "       [66.95972573],\n",
       "       [62.17032681],\n",
       "       [63.90378465],\n",
       "       [52.71965765],\n",
       "       [51.64757385],\n",
       "       [70.19395096],\n",
       "       [35.44694039],\n",
       "       [77.28511462],\n",
       "       [58.41184077],\n",
       "       [66.44804247],\n",
       "       [64.5365177 ],\n",
       "       [52.11991954],\n",
       "       [59.09221587],\n",
       "       [54.14616053],\n",
       "       [60.59114002],\n",
       "       [51.18237924],\n",
       "       [62.43578712],\n",
       "       [57.13678622],\n",
       "       [66.71733764],\n",
       "       [62.23542692],\n",
       "       [62.9403327 ],\n",
       "       [58.01914073],\n",
       "       [67.13498453],\n",
       "       [63.48893664],\n",
       "       [48.68368131],\n",
       "       [65.56608585],\n",
       "       [52.28477781],\n",
       "       [66.4037023 ],\n",
       "       [54.41668113],\n",
       "       [61.09087113],\n",
       "       [60.98483622],\n",
       "       [61.54537855],\n",
       "       [63.10607087],\n",
       "       [64.96597153],\n",
       "       [58.95123742],\n",
       "       [71.37445629],\n",
       "       [67.23311256],\n",
       "       [64.53548678],\n",
       "       [64.09335262],\n",
       "       [50.8966826 ],\n",
       "       [64.40333906],\n",
       "       [62.3820992 ],\n",
       "       [51.5589405 ],\n",
       "       [49.28807422],\n",
       "       [66.21406588],\n",
       "       [62.87874061],\n",
       "       [70.9305662 ],\n",
       "       [58.9913124 ],\n",
       "       [59.16781037],\n",
       "       [54.69469469],\n",
       "       [64.81818442],\n",
       "       [53.91597359],\n",
       "       [50.8360862 ],\n",
       "       [61.68445236],\n",
       "       [57.10652725],\n",
       "       [77.5566799 ],\n",
       "       [69.11328079],\n",
       "       [65.90112067],\n",
       "       [66.34815307],\n",
       "       [51.24395736],\n",
       "       [62.34781023],\n",
       "       [62.83333868],\n",
       "       [66.10455114],\n",
       "       [59.71180355],\n",
       "       [63.11264322],\n",
       "       [51.00035033],\n",
       "       [63.39315925],\n",
       "       [67.67871847],\n",
       "       [67.54814732],\n",
       "       [63.79072735],\n",
       "       [75.35657739],\n",
       "       [69.48961094],\n",
       "       [57.20354944],\n",
       "       [62.59466025],\n",
       "       [63.14452296],\n",
       "       [66.36929631],\n",
       "       [57.11978884],\n",
       "       [73.41758346],\n",
       "       [58.80997872],\n",
       "       [68.8393177 ],\n",
       "       [59.11111013],\n",
       "       [57.86051471],\n",
       "       [51.4408081 ],\n",
       "       [46.17984146],\n",
       "       [70.82366241],\n",
       "       [55.00875689],\n",
       "       [72.90127475],\n",
       "       [78.00251694],\n",
       "       [70.77737127],\n",
       "       [60.1507273 ],\n",
       "       [63.65893298],\n",
       "       [67.92901992],\n",
       "       [61.03021827],\n",
       "       [53.72717699],\n",
       "       [54.82211641],\n",
       "       [66.7753622 ],\n",
       "       [62.40979898],\n",
       "       [56.80164341],\n",
       "       [67.06419398],\n",
       "       [53.38625124],\n",
       "       [62.17578973],\n",
       "       [62.55882449],\n",
       "       [62.9835732 ],\n",
       "       [53.41060733],\n",
       "       [68.65532193],\n",
       "       [49.30066944],\n",
       "       [57.37480988],\n",
       "       [59.30530895],\n",
       "       [67.64775063],\n",
       "       [41.26428911],\n",
       "       [62.41589746],\n",
       "       [69.28445582],\n",
       "       [67.73440597],\n",
       "       [65.91338655],\n",
       "       [78.98414745],\n",
       "       [60.76867103],\n",
       "       [68.28598961],\n",
       "       [66.67004835],\n",
       "       [68.5258931 ],\n",
       "       [64.65453437],\n",
       "       [71.34693736],\n",
       "       [65.16826779],\n",
       "       [64.61891153],\n",
       "       [47.07439148],\n",
       "       [63.60728478],\n",
       "       [59.04216807],\n",
       "       [44.41367928],\n",
       "       [39.76449727],\n",
       "       [32.89647918],\n",
       "       [61.91747651],\n",
       "       [55.44859076],\n",
       "       [67.91931537],\n",
       "       [47.73314631],\n",
       "       [45.1511219 ],\n",
       "       [64.61686981],\n",
       "       [62.02087253],\n",
       "       [57.57559202],\n",
       "       [61.70971939],\n",
       "       [68.43517064],\n",
       "       [50.55290714],\n",
       "       [68.42931356],\n",
       "       [70.58941491],\n",
       "       [61.1369746 ],\n",
       "       [59.40077908],\n",
       "       [64.98262841],\n",
       "       [57.7079594 ],\n",
       "       [60.13802314],\n",
       "       [77.16516698],\n",
       "       [63.07034173],\n",
       "       [65.63070875],\n",
       "       [63.21639341],\n",
       "       [58.43609085],\n",
       "       [60.42997278],\n",
       "       [65.20400701],\n",
       "       [62.69723332],\n",
       "       [66.4179169 ],\n",
       "       [62.20853301],\n",
       "       [44.21251547],\n",
       "       [56.11892068],\n",
       "       [46.24173069],\n",
       "       [37.51763199],\n",
       "       [73.79135903],\n",
       "       [69.65300015],\n",
       "       [79.47703301],\n",
       "       [70.00691637],\n",
       "       [69.85030186],\n",
       "       [59.34387971],\n",
       "       [66.74648757],\n",
       "       [60.05796866],\n",
       "       [62.67285121],\n",
       "       [47.30649238],\n",
       "       [61.52827733],\n",
       "       [51.33494505],\n",
       "       [35.56519572],\n",
       "       [45.2332286 ],\n",
       "       [56.9715825 ],\n",
       "       [51.63939606],\n",
       "       [64.35368611],\n",
       "       [63.30129358],\n",
       "       [65.63168669],\n",
       "       [70.55483999],\n",
       "       [65.78657728],\n",
       "       [63.40729388],\n",
       "       [66.65724779],\n",
       "       [69.90359481],\n",
       "       [74.27970624],\n",
       "       [76.37214624],\n",
       "       [68.6784911 ],\n",
       "       [55.70690816],\n",
       "       [54.02281237],\n",
       "       [64.46998087],\n",
       "       [76.19268246],\n",
       "       [80.62330757],\n",
       "       [66.1275479 ],\n",
       "       [60.19013068],\n",
       "       [74.58648035],\n",
       "       [47.49683968],\n",
       "       [60.98506154],\n",
       "       [71.1801628 ],\n",
       "       [56.93000177],\n",
       "       [53.0365363 ],\n",
       "       [66.54064384],\n",
       "       [75.11436627],\n",
       "       [54.17075016],\n",
       "       [51.23867284],\n",
       "       [54.76541697],\n",
       "       [69.342229  ],\n",
       "       [60.27843913],\n",
       "       [63.7559472 ],\n",
       "       [61.74655051],\n",
       "       [63.21020497],\n",
       "       [63.39491256],\n",
       "       [67.64773211],\n",
       "       [65.85607566],\n",
       "       [50.69899684],\n",
       "       [63.94706868],\n",
       "       [53.74880725],\n",
       "       [72.14281748],\n",
       "       [71.48265339],\n",
       "       [44.52115593],\n",
       "       [65.61590435],\n",
       "       [57.75101099],\n",
       "       [35.903723  ],\n",
       "       [45.75609462],\n",
       "       [57.24827963],\n",
       "       [58.09376625],\n",
       "       [67.22757222],\n",
       "       [60.91173673],\n",
       "       [49.79096541],\n",
       "       [68.09371852],\n",
       "       [66.99480593],\n",
       "       [55.14006631],\n",
       "       [62.25183646],\n",
       "       [64.18054434],\n",
       "       [53.40945253],\n",
       "       [53.56856834],\n",
       "       [65.97291236],\n",
       "       [65.92520555],\n",
       "       [32.6714587 ],\n",
       "       [72.96799866],\n",
       "       [64.48411572],\n",
       "       [55.94045982],\n",
       "       [54.59736795],\n",
       "       [62.49019949],\n",
       "       [67.97765096],\n",
       "       [72.00804136],\n",
       "       [52.7648398 ],\n",
       "       [66.69133394],\n",
       "       [65.13980219],\n",
       "       [70.47334194],\n",
       "       [56.35870065],\n",
       "       [53.38594663],\n",
       "       [43.26661145],\n",
       "       [70.52718465],\n",
       "       [71.48640995],\n",
       "       [48.54550805],\n",
       "       [64.62265227],\n",
       "       [63.47418948],\n",
       "       [44.22838338],\n",
       "       [58.400006  ],\n",
       "       [52.11515156],\n",
       "       [66.66944834],\n",
       "       [66.18074749],\n",
       "       [59.66614303],\n",
       "       [46.19536942],\n",
       "       [55.32120001],\n",
       "       [71.13961835],\n",
       "       [50.85360094],\n",
       "       [58.70006226],\n",
       "       [65.46624369],\n",
       "       [34.79593925],\n",
       "       [80.08368334],\n",
       "       [67.88379696],\n",
       "       [57.18164768],\n",
       "       [62.24353509],\n",
       "       [37.13322892],\n",
       "       [57.52069104],\n",
       "       [65.48420739],\n",
       "       [57.80585355],\n",
       "       [64.78429084],\n",
       "       [53.0843159 ],\n",
       "       [60.0306108 ],\n",
       "       [76.89715173],\n",
       "       [61.48766486],\n",
       "       [64.88506028],\n",
       "       [63.83619391],\n",
       "       [60.7291    ],\n",
       "       [74.47214181],\n",
       "       [46.16062153],\n",
       "       [57.82396925],\n",
       "       [67.49103381],\n",
       "       [63.46725857],\n",
       "       [66.64677863],\n",
       "       [55.78444066],\n",
       "       [61.49499859],\n",
       "       [64.22019877],\n",
       "       [69.82062969],\n",
       "       [58.73646291],\n",
       "       [59.89950821],\n",
       "       [58.66976266],\n",
       "       [71.51982948],\n",
       "       [68.62077615],\n",
       "       [57.39780048],\n",
       "       [62.26592232],\n",
       "       [67.48685537],\n",
       "       [52.82018702],\n",
       "       [66.57438119],\n",
       "       [72.19689609],\n",
       "       [47.7311599 ],\n",
       "       [53.16231711],\n",
       "       [65.58226481],\n",
       "       [52.96942565],\n",
       "       [55.99003319],\n",
       "       [62.65200716],\n",
       "       [64.8982964 ],\n",
       "       [59.84413759],\n",
       "       [63.0935793 ],\n",
       "       [56.55306983],\n",
       "       [54.51761272],\n",
       "       [67.16125632],\n",
       "       [64.20480145],\n",
       "       [64.57241498],\n",
       "       [66.91781663],\n",
       "       [70.77423389],\n",
       "       [64.32583085],\n",
       "       [65.51710024],\n",
       "       [66.08737604],\n",
       "       [58.62411679],\n",
       "       [42.69971264],\n",
       "       [71.03762857],\n",
       "       [65.33328624],\n",
       "       [60.07686936],\n",
       "       [63.7876831 ],\n",
       "       [67.11435693],\n",
       "       [65.39420049],\n",
       "       [71.81186373],\n",
       "       [70.64045827],\n",
       "       [73.09380301],\n",
       "       [65.1032376 ],\n",
       "       [71.67895224],\n",
       "       [64.26418679],\n",
       "       [48.25995127],\n",
       "       [57.83853118],\n",
       "       [61.53399477],\n",
       "       [68.3113863 ],\n",
       "       [66.81648145],\n",
       "       [65.97161278],\n",
       "       [46.41230643],\n",
       "       [66.40267927],\n",
       "       [60.1507383 ],\n",
       "       [64.58666299],\n",
       "       [47.04608253],\n",
       "       [57.31355845],\n",
       "       [72.4667547 ],\n",
       "       [54.32150952],\n",
       "       [56.40320268],\n",
       "       [50.43495072],\n",
       "       [52.87896031],\n",
       "       [64.58070491],\n",
       "       [61.20723552],\n",
       "       [68.26319883]])"
      ]
     },
     "execution_count": 25,
     "metadata": {},
     "output_type": "execute_result"
    }
   ],
   "source": [
    "clf.predict(x)"
   ]
  },
  {
   "cell_type": "code",
   "execution_count": 26,
   "id": "774429f2",
   "metadata": {},
   "outputs": [
    {
     "name": "stdout",
     "output_type": "stream",
     "text": [
      "10.14005399814071\n"
     ]
    }
   ],
   "source": [
    "y_train_pred = clf.predict(x)\n",
    "rmse = metrics.mean_squared_error(y, y_train_pred, squared=False)\n",
    "print(rmse)"
   ]
  },
  {
   "cell_type": "markdown",
   "id": "16ebaee2",
   "metadata": {},
   "source": [
    "The calculated R-squared value measures how well the model fits the data, with a value of 1 indicating aperfect fit. Here the R-squared value so obtained is 0.4382\n",
    "\n",
    "The mean_squared_error() function from the sklearn.metrics module is used to calculate the mean squarederror, and the squared parameter is set to False to return the RMSE instead of the squared error. The so obtained RMSE is 10.0845\n",
    "\n",
    "Then the trained model is used to make predictions on the input features in 'x'. The predict() method of theLinearRegression class is used to make the predictions, and the resulting predictions are returned."
   ]
  },
  {
   "cell_type": "code",
   "execution_count": 27,
   "id": "00aacf81",
   "metadata": {},
   "outputs": [
    {
     "name": "stdout",
     "output_type": "stream",
     "text": [
      "Coefficients:  [[ -2.73468978  -4.31745034   0.095728    -0.21586883   1.04013057\n",
      "   -0.05564781 -10.96984991   0.70507979  -0.81215995  -2.68174359\n",
      "    1.61795507   0.2107514    1.5844927    2.25746336   3.1183311\n",
      "   -6.86534689   6.33446877  12.42153721  -0.88286608   1.80538662\n",
      "    3.44128307   2.40633572   0.88288606 -14.51835663]]\n",
      "[59.54372564]\n"
     ]
    }
   ],
   "source": [
    "print('Coefficients: ', clf.coef_)\n",
    "print(clf.intercept_)"
   ]
  },
  {
   "cell_type": "markdown",
   "id": "889d18ff",
   "metadata": {},
   "source": [
    "In a multiple linear regression model, the coefficients represent the amount of change in the dependent variable (i.e., the variable being predicted) associated with a one-unit change in each independent variable (i.e., the variables used to make the prediction).\n",
    "\n",
    "For instance, here the dependent is popularity and acousticness has a negative variation 1 unit change in acoustiness results in -14.51 change in popularity.\n",
    "\n",
    "The intercept represents the predicted value of the dependent variable when all the independent variables are equal to zero."
   ]
  },
  {
   "cell_type": "markdown",
   "id": "29e0d4b2",
   "metadata": {},
   "source": [
    "# Decision Tree Regression"
   ]
  },
  {
   "cell_type": "code",
   "execution_count": 28,
   "id": "1878b0c0",
   "metadata": {},
   "outputs": [
    {
     "data": {
      "text/plain": [
       "DecisionTreeRegressor(random_state=0)"
      ]
     },
     "execution_count": 28,
     "metadata": {},
     "output_type": "execute_result"
    }
   ],
   "source": [
    "from sklearn.tree import DecisionTreeRegressor \n",
    "# create a regressor object\n",
    "dtr = DecisionTreeRegressor(random_state = 0)\n",
    "# fit the regressor with X and Y data\n",
    "dtr.fit(x,y)"
   ]
  },
  {
   "cell_type": "markdown",
   "id": "71f7c02d",
   "metadata": {},
   "source": [
    "This is done to create a Decision Tree Regressor model and fits it on input and output data, prints the R-squared value to evaluate the goodness of fit, makes predictions using the fitted model, calculates theRMSE to evaluate the prediction accuracy, and prints the RMSE value.\n",
    "    \n",
    "The Decision Tree Regressor model object is created with a random state of 0. The random state is used tomake the results reproducible.\n",
    "\n",
    "Then the Decision Tree Regressor model is made to fit on the input data x and output/target data y."
   ]
  },
  {
   "cell_type": "code",
   "execution_count": 29,
   "id": "04f17d43",
   "metadata": {},
   "outputs": [
    {
     "name": "stdout",
     "output_type": "stream",
     "text": [
      "1.0\n"
     ]
    }
   ],
   "source": [
    "print(dtr.score(x,y))"
   ]
  },
  {
   "cell_type": "markdown",
   "id": "8c43cccb",
   "metadata": {},
   "source": [
    "The R-squared value of the Decision Tree Regressor model is generated. The R-squared value is a statisticalmeasure that represents the proportion of the variance in the dependent variable that is explained by theindependent variables in the model. A higher R-squared value indicates a better fit of the model. The Rsquared value obtained for the model is 1"
   ]
  },
  {
   "cell_type": "code",
   "execution_count": 30,
   "id": "604bfeea",
   "metadata": {},
   "outputs": [
    {
     "name": "stdout",
     "output_type": "stream",
     "text": [
      "0.0\n"
     ]
    }
   ],
   "source": [
    "y_train_pred = dtr.predict(x)\n",
    "rmse = metrics.mean_squared_error(y, y_train_pred, squared=False)\n",
    "print(rmse)"
   ]
  },
  {
   "cell_type": "markdown",
   "id": "77b9b83b",
   "metadata": {},
   "source": [
    "The root mean squared error (RMSE) between predicted and actual output values (y train pred) is calculated. The root mean square error (RMSE) is a popular metric for assessing the performance of regression models. It computes the average difference between predicted and observed values in the same units as the target variable.. Here the RMSE value obtained is 0."
   ]
  },
  {
   "cell_type": "markdown",
   "id": "66683333",
   "metadata": {},
   "source": [
    "# Random Forest Regression"
   ]
  },
  {
   "cell_type": "code",
   "execution_count": 31,
   "id": "2a14faa5",
   "metadata": {
    "scrolled": true
   },
   "outputs": [],
   "source": [
    "from sklearn.ensemble import RandomForestRegressor\n",
    "# Instantiate model with 1000 decision trees\n",
    "rf = RandomForestRegressor(n_estimators = 1000, random_state = 42)\n",
    "# Train the model on training data\n",
    "rf.fit(x,y);"
   ]
  },
  {
   "cell_type": "markdown",
   "id": "410f5520",
   "metadata": {},
   "source": [
    "Here a Random Forest Regressor model is created, fits it on input and output data, prints the R-squaredvalue to evaluate the goodness of fit, makes predictions using the fitted model, calculates the RMSE toevaluate the prediction accuracy, and prints the RMSE value. We tried to create a Random Forest Regressormodel object with 1000 trees and a random state of 42 and to fit the Random Forest Regressor model on the input data x and output data y."
   ]
  },
  {
   "cell_type": "code",
   "execution_count": 32,
   "id": "3e9328f2",
   "metadata": {},
   "outputs": [
    {
     "name": "stdout",
     "output_type": "stream",
     "text": [
      "0.9155704620755731\n"
     ]
    }
   ],
   "source": [
    "print(rf.score(x,y))"
   ]
  },
  {
   "cell_type": "markdown",
   "id": "3d7cab92",
   "metadata": {},
   "source": [
    "R-squared value of the Random Forest Regressor model is calculated. The R-squared value is a statisticalmeasure that represents the proportion of the variance in the dependent variable that is explained by theindependent variables in the model. A higher R-squared value indicates a better fit of the model.The Rsquared value of the obtained model is 0.91551"
   ]
  },
  {
   "cell_type": "code",
   "execution_count": 33,
   "id": "1274e3cc",
   "metadata": {},
   "outputs": [
    {
     "name": "stdout",
     "output_type": "stream",
     "text": [
      "3.9096473870349517\n"
     ]
    }
   ],
   "source": [
    "y_train_pred = rf.predict(x)\n",
    "rmse = metrics.mean_squared_error(y, y_train_pred, squared=False)\n",
    "print(rmse)"
   ]
  },
  {
   "cell_type": "markdown",
   "id": "e3055ce5",
   "metadata": {},
   "source": [
    "The root mean squared error (RMSE) between the predicted output values (y_train_pred) and the actual output values (y) is calculated.\n",
    "    \n",
    "RMSE is a commonly used metric to evaluate the performance of regression models. It measures the average difference between the predicted and actual values in the same units as the target variable.\n",
    "    \n",
    "The RMSE value obtained for the predictions is 3.9108"
   ]
  },
  {
   "cell_type": "code",
   "execution_count": 34,
   "id": "bbee437f",
   "metadata": {},
   "outputs": [
    {
     "name": "stdout",
     "output_type": "stream",
     "text": [
      "[11.05090514  9.19221919  9.96586767  8.6869323  11.38698535 12.65681366\n",
      " 11.14714414 10.56984336 11.0473861   9.80312531]\n"
     ]
    }
   ],
   "source": [
    "from sklearn.model_selection import cross_val_score\n",
    "\n",
    "forest_scores = cross_val_score(rf, x, y,\n",
    "                                scoring=\"neg_mean_squared_error\", cv=10)\n",
    "forest_rmse_scores = np.sqrt(-forest_scores)\n",
    "print(forest_rmse_scores)"
   ]
  },
  {
   "cell_type": "markdown",
   "id": "e231498a",
   "metadata": {},
   "source": [
    "For a random forest regressor, the cross-validation scores provide an estimate of the model's ability to generalize to new data. Higher cross-validation scores indicate better performance, while lower scores suggest that the model may be overfitting to the training data or not capturing important patterns in the data.\n",
    "\n",
    "Here, the data is not under-fitting and is able to predict the label value i.e., popularity with fairly good accuracy."
   ]
  },
  {
   "cell_type": "code",
   "execution_count": 35,
   "id": "685e2a2b",
   "metadata": {
    "scrolled": true
   },
   "outputs": [
    {
     "data": {
      "text/plain": [
       "array([45.86 , 39.794, 72.224, 65.769, 65.765, 73.08 , 52.593, 69.578,\n",
       "       34.595, 36.803, 65.244, 70.307, 40.805, 39.434, 52.604, 43.581,\n",
       "       50.776, 65.563, 58.237, 71.676, 71.232, 68.337, 64.187, 64.095,\n",
       "       43.852, 61.757, 32.961, 58.273, 56.161, 70.466, 74.196, 70.59 ,\n",
       "       63.471, 70.888, 70.374, 33.786, 66.138, 49.095, 69.568, 65.3  ,\n",
       "       59.796, 70.421, 59.618, 66.663, 61.318, 62.643, 59.618, 72.194,\n",
       "       69.379, 73.772, 59.588, 61.273, 60.459, 62.696, 67.177, 39.237,\n",
       "       68.557, 35.358, 69.216, 67.93 , 66.465, 55.665, 73.492, 47.327,\n",
       "       66.268, 69.494, 67.384, 50.373, 37.53 , 74.293, 63.963, 73.465,\n",
       "       31.855, 49.592, 71.737, 70.123, 62.972, 49.158, 43.31 , 65.988,\n",
       "       48.997, 39.546, 67.626, 44.02 , 61.363, 65.654, 69.842, 38.815,\n",
       "       55.251, 69.883, 34.269, 62.838, 69.063, 49.431, 74.779, 52.243,\n",
       "       54.719, 70.04 , 39.151, 68.556, 57.471, 66.214, 58.536, 50.42 ,\n",
       "       50.39 , 47.143, 68.546, 47.465, 71.245, 59.375, 68.876, 60.261,\n",
       "       58.722, 59.924, 61.815, 72.464, 41.241, 71.609, 60.475, 65.312,\n",
       "       46.486, 63.171, 67.733, 66.356, 64.844, 57.318, 64.74 , 52.535,\n",
       "       61.096, 69.517, 63.956, 47.715, 69.301, 70.401, 56.259, 39.745,\n",
       "       58.038, 66.631, 70.25 , 66.338, 58.401, 45.314, 69.774, 53.731,\n",
       "       40.242, 54.106, 56.929, 73.225, 69.09 , 59.589, 66.631, 50.568,\n",
       "       60.122, 69.169, 67.675, 50.796, 64.938, 40.09 , 60.271, 68.548,\n",
       "       69.039, 67.404, 77.19 , 59.872, 61.83 , 62.408, 66.439, 65.802,\n",
       "       60.577, 73.371, 55.432, 70.437, 70.72 , 58.343, 46.733, 53.008,\n",
       "       63.182, 57.738, 72.754, 65.761, 67.622, 52.693, 70.965, 63.644,\n",
       "       58.018, 54.438, 70.855, 61.193, 64.859, 61.808, 69.107, 51.778,\n",
       "       45.186, 59.102, 69.628, 41.77 , 74.446, 65.802, 62.328, 68.32 ,\n",
       "       72.026, 54.98 , 62.782, 61.918, 72.743, 66.747, 71.182, 56.887,\n",
       "       70.925, 64.968, 60.298, 60.028, 64.742, 64.103, 64.307, 34.651,\n",
       "       60.742, 67.762, 38.234, 39.498, 37.707, 68.551, 44.79 , 60.135,\n",
       "       46.934, 50.299, 58.23 , 65.484, 63.304, 74.142, 74.938, 35.268,\n",
       "       67.681, 62.801, 73.622, 64.959, 59.884, 56.57 , 60.765, 65.837,\n",
       "       67.03 , 75.956, 51.139, 64.206, 56.411, 65.354, 66.851, 63.156,\n",
       "       62.123, 51.42 , 69.233, 36.921, 32.105, 67.352, 61.105, 72.26 ,\n",
       "       68.369, 57.716, 56.924, 48.927, 63.622, 66.986, 47.094, 72.641,\n",
       "       53.03 , 31.254, 60.588, 50.024, 63.477, 74.247, 59.869, 55.197,\n",
       "       76.12 , 50.85 , 66.704, 69.562, 69.788, 73.954, 69.19 , 66.519,\n",
       "       62.985, 55.711, 65.137, 75.163, 71.48 , 66.671, 73.531, 74.876,\n",
       "       42.528, 61.555, 74.572, 63.155, 41.382, 70.898, 77.083, 58.238,\n",
       "       49.593, 63.76 , 52.736, 66.335, 74.   , 65.728, 72.597, 68.518,\n",
       "       57.298, 58.38 , 36.122, 68.313, 60.588, 72.7  , 54.747, 35.537,\n",
       "       68.925, 57.764, 33.856, 41.281, 51.06 , 63.899, 61.832, 61.814,\n",
       "       45.606, 63.305, 57.305, 66.439, 69.182, 70.364, 45.18 , 54.186,\n",
       "       64.351, 66.74 , 30.979, 74.509, 66.585, 49.897, 52.982, 65.554,\n",
       "       71.439, 75.827, 57.625, 70.674, 63.767, 66.511, 67.366, 54.022,\n",
       "       40.014, 72.668, 75.634, 41.627, 59.886, 66.316, 33.389, 48.311,\n",
       "       51.044, 75.127, 68.875, 58.546, 45.441, 35.919, 72.685, 54.26 ,\n",
       "       69.404, 70.455, 40.889, 68.8  , 73.097, 68.74 , 63.099, 36.544,\n",
       "       68.577, 74.122, 68.506, 67.331, 62.339, 64.761, 76.94 , 70.837,\n",
       "       69.793, 71.017, 54.777, 67.612, 56.225, 61.052, 72.261, 62.54 ,\n",
       "       63.226, 44.727, 69.627, 69.54 , 61.301, 50.397, 62.814, 61.042,\n",
       "       56.621, 60.428, 63.002, 71.225, 68.958, 45.133, 69.768, 74.118,\n",
       "       37.021, 66.971, 62.456, 64.18 , 61.279, 72.009, 58.697, 57.479,\n",
       "       70.447, 55.415, 68.934, 72.76 , 59.627, 63.768, 67.205, 65.95 ,\n",
       "       58.234, 68.882, 70.963, 63.373, 36.713, 70.987, 63.773, 66.47 ,\n",
       "       69.914, 74.8  , 69.569, 75.843, 65.665, 72.388, 58.228, 65.376,\n",
       "       61.099, 57.279, 49.32 , 61.318, 73.289, 65.64 , 61.163, 47.827,\n",
       "       71.781, 75.091, 53.085, 62.034, 57.791, 71.086, 48.438, 43.819,\n",
       "       47.157, 47.532, 71.096, 62.434, 62.593])"
      ]
     },
     "execution_count": 35,
     "metadata": {},
     "output_type": "execute_result"
    }
   ],
   "source": [
    "rf.predict(x)"
   ]
  },
  {
   "cell_type": "markdown",
   "id": "a1aad8dc",
   "metadata": {},
   "source": [
    "# Preparation of Test Data"
   ]
  },
  {
   "cell_type": "markdown",
   "id": "c0dd09d0",
   "metadata": {},
   "source": [
    "It is important to ensure that the test data is representative of the real-world data that the model will encounter and to preprocess the data in the same way as the training data to ensure that the evaluation metrics accurately reflect the performance of the model."
   ]
  },
  {
   "cell_type": "markdown",
   "id": "ad4842dc",
   "metadata": {},
   "source": [
    "Pre-processing of the test data in the same way as the training data is done. This includes removal of nullvalues and replacing the same by string 'unassigned'.\n",
    "Splitting of the genre column into sub-genres is auseful technique in the analysis of the DataFrame.\n",
    "Grouping of infrequent genres in the 'genre' column of aDataFrame into a single category called 'others'"
   ]
  },
  {
   "cell_type": "code",
   "execution_count": 36,
   "id": "1e7a5da7",
   "metadata": {},
   "outputs": [],
   "source": [
    "data_test = pd.read_csv(\"CS98XRegressionTest.csv\")\n",
    "# data_test.isna().sum()"
   ]
  },
  {
   "cell_type": "code",
   "execution_count": 37,
   "id": "1d6b4d2a",
   "metadata": {},
   "outputs": [],
   "source": [
    "data_test['top genre'] = data_test['top genre'].fillna('unassigned')\n",
    "data_test.rename({'pop': 'popularity'}, axis=1, inplace=True)\n",
    "# data_test.drop(columns=['bpm','live','val','spch'],axis=1,inplace=True)\n",
    "data_test.drop(['Id','title'],axis=1,inplace=True)"
   ]
  },
  {
   "cell_type": "code",
   "execution_count": 38,
   "id": "f34dcd67",
   "metadata": {},
   "outputs": [
    {
     "name": "stdout",
     "output_type": "stream",
     "text": [
      "[11.05090514  9.19221919  9.96586767  8.6869323  11.38698535 12.65681366\n",
      " 11.14714414 10.56984336 11.0473861   9.80312531]\n"
     ]
    }
   ],
   "source": [
    "from sklearn.model_selection import cross_val_score\n",
    "\n",
    "forest_scores = cross_val_score(rf, x, y,\n",
    "                                scoring=\"neg_mean_squared_error\", cv=10)\n",
    "forest_rmse_scores = np.sqrt(-forest_scores)\n",
    "print(forest_rmse_scores)"
   ]
  },
  {
   "cell_type": "code",
   "execution_count": 39,
   "id": "110230ec",
   "metadata": {},
   "outputs": [],
   "source": [
    "data_test['dur'] = np.log2(data_test['dur'])\n",
    "data_test['nrgy'] = np.log2(data_test['nrgy'])\n",
    "data_test['bpm'] = np.log2(data_test['bpm'])"
   ]
  },
  {
   "cell_type": "code",
   "execution_count": 40,
   "id": "6d20c582",
   "metadata": {
    "scrolled": true
   },
   "outputs": [],
   "source": [
    "genre = (data_test[\"top genre\"].str.strip()).str.lower()\n",
    "gen = genre.str.split(\" \",0)\n",
    "new_genre = []\n",
    "for i in gen:\n",
    "    new_genre.append(i[-1])\n",
    "new_genre=np.array(new_genre)\n",
    "data_test['genre'] = new_genre.tolist()\n",
    "data_test.drop(columns=['top genre'],axis=1,inplace=True)"
   ]
  },
  {
   "cell_type": "code",
   "execution_count": 41,
   "id": "3a132feb",
   "metadata": {},
   "outputs": [],
   "source": [
    "v = data_test['genre'].value_counts()\n",
    "data_test.loc[data_test['genre'].isin(v[v<3].index), 'genre'] = 'others'"
   ]
  },
  {
   "cell_type": "code",
   "execution_count": 42,
   "id": "6bd0157e",
   "metadata": {},
   "outputs": [],
   "source": [
    "count = data_test['artist'].value_counts()\n",
    "data_test['value_count'] = data_test['artist'].apply(lambda x: count[x])\n",
    "data_test['artist'] = data_test['value_count'].apply(lambda x: round(x/7,2))\n",
    "data_test.drop(columns=['value_count'],axis=1,inplace=True)"
   ]
  },
  {
   "cell_type": "markdown",
   "id": "a680bfe1",
   "metadata": {},
   "source": [
    "<h3> Performing feature scaling on the selected columns in the test data dataframe"
   ]
  },
  {
   "cell_type": "code",
   "execution_count": 43,
   "id": "6c646254",
   "metadata": {},
   "outputs": [
    {
     "data": {
      "text/plain": [
       "<bound method NDFrame.head of        artist      year       bpm      nrgy      dnce        dB      live  \\\n",
       "0   -0.534855  0.808965  1.322181  1.088085  0.351377  1.633434  4.143519   \n",
       "1    0.639930  0.152545  1.527775 -0.686977 -1.911453 -1.724866 -0.489118   \n",
       "2    1.207068 -0.861921 -2.738981 -0.349792 -2.105410  0.514000 -0.416733   \n",
       "3   -0.534855  1.107337  0.430621  1.066003  0.739291 -0.045716  1.392891   \n",
       "4   -0.534855  1.584733 -0.028443 -0.349792 -0.230493 -0.885291  0.234732   \n",
       "..        ...       ...       ...       ...       ...       ...       ...   \n",
       "109 -0.534855  0.808965  0.357205  0.088153  0.092768  0.234142  1.465276   \n",
       "110 -0.534855  1.107337  0.538605  0.998288  0.480682  0.793859 -0.561503   \n",
       "111  0.072793  0.152545 -1.481259  0.123677  1.191857  0.514000 -0.271963   \n",
       "112 -0.534855 -0.802247  0.430621  1.174101  0.803943  1.073717 -0.416733   \n",
       "113 -0.534855 -0.324851  0.282605  0.998288 -0.424450  1.353575  0.813811   \n",
       "\n",
       "          val       dur     acous      spch   genre  \n",
       "0    0.592924 -0.077582 -1.084243  2.225641     pop  \n",
       "1   -1.854780  1.050061 -0.236710 -0.479767    rock  \n",
       "2   -1.691599 -0.699223  0.170105 -0.479767    rock  \n",
       "3   -0.263772 -0.027587 -0.914736 -0.299406  others  \n",
       "4   -1.038878 -1.260246 -0.507921 -0.479767  others  \n",
       "..        ...       ...       ...       ...     ...  \n",
       "109  0.674514 -0.145348 -1.016440  7.456095     hop  \n",
       "110  0.837695 -0.044174 -0.982539 -0.479767   dance  \n",
       "111  0.674514  0.537594  0.339612  3.848885     hop  \n",
       "112  0.552129  0.988322 -0.914736  1.504199   disco  \n",
       "113  0.837695  0.480627 -0.846934 -0.479767  others  \n",
       "\n",
       "[114 rows x 12 columns]>"
      ]
     },
     "execution_count": 43,
     "metadata": {},
     "output_type": "execute_result"
    }
   ],
   "source": [
    "std_df_scaled_t = scaler.transform(data_test[scl_attr])\n",
    "data_test[scl_attr] = pd.DataFrame(std_df_scaled_t)\n",
    "data_test.head"
   ]
  },
  {
   "cell_type": "code",
   "execution_count": 44,
   "id": "7c31c28d",
   "metadata": {},
   "outputs": [],
   "source": [
    "xtest_pca = pca.transform(data_test[scl_attr])"
   ]
  },
  {
   "cell_type": "code",
   "execution_count": 45,
   "id": "0a3cc2c4",
   "metadata": {},
   "outputs": [
    {
     "data": {
      "text/plain": [
       "<bound method NDFrame.head of       genre         0         1         2         3         4\n",
       "0       pop -3.099386  1.712066  0.736146  3.651921  0.407580\n",
       "1      rock  1.864105 -1.988405 -0.400442  0.761958 -1.978535\n",
       "2      rock  2.268015 -1.468468  0.921335  0.917714  1.384738\n",
       "3    others -1.408465  0.572316  0.375566  0.870166 -0.196337\n",
       "4    others  0.726359  0.816336  1.095722  0.220215 -0.721940\n",
       "..      ...       ...       ...       ...       ...       ...\n",
       "109     hop -2.792882  1.576403  3.160763  1.418422 -0.060258\n",
       "110   dance -1.872606  0.381461 -0.016630 -0.503757 -0.632690\n",
       "111     hop -1.456412  0.280807  2.211018 -0.893350  1.322141\n",
       "112   disco -2.361944 -0.431816 -0.174613 -0.255724 -0.391360\n",
       "113  others -1.566309  0.110133 -0.719148  1.080214 -0.129559\n",
       "\n",
       "[114 rows x 6 columns]>"
      ]
     },
     "execution_count": 45,
     "metadata": {},
     "output_type": "execute_result"
    }
   ],
   "source": [
    "data_test = pd.concat([data_test[['genre']].reset_index(drop=True), pd.DataFrame(xtest_pca)], axis='columns')\n",
    "data_test.head"
   ]
  },
  {
   "cell_type": "markdown",
   "id": "23b420e8",
   "metadata": {},
   "source": [
    "<h3> Perform feature transformation on the selected columns in the test data dataframe"
   ]
  },
  {
   "cell_type": "code",
   "execution_count": 46,
   "id": "b481f0ff",
   "metadata": {},
   "outputs": [
    {
     "data": {
      "text/html": [
       "<div>\n",
       "<style scoped>\n",
       "    .dataframe tbody tr th:only-of-type {\n",
       "        vertical-align: middle;\n",
       "    }\n",
       "\n",
       "    .dataframe tbody tr th {\n",
       "        vertical-align: top;\n",
       "    }\n",
       "\n",
       "    .dataframe thead th {\n",
       "        text-align: right;\n",
       "    }\n",
       "</style>\n",
       "<table border=\"1\" class=\"dataframe\">\n",
       "  <thead>\n",
       "    <tr style=\"text-align: right;\">\n",
       "      <th></th>\n",
       "      <th>0</th>\n",
       "      <th>1</th>\n",
       "      <th>2</th>\n",
       "      <th>3</th>\n",
       "      <th>4</th>\n",
       "      <th>0</th>\n",
       "      <th>1</th>\n",
       "      <th>2</th>\n",
       "      <th>3</th>\n",
       "      <th>4</th>\n",
       "      <th>...</th>\n",
       "      <th>9</th>\n",
       "      <th>10</th>\n",
       "      <th>11</th>\n",
       "      <th>12</th>\n",
       "      <th>13</th>\n",
       "      <th>14</th>\n",
       "      <th>15</th>\n",
       "      <th>16</th>\n",
       "      <th>17</th>\n",
       "      <th>18</th>\n",
       "    </tr>\n",
       "  </thead>\n",
       "  <tbody>\n",
       "    <tr>\n",
       "      <th>0</th>\n",
       "      <td>-3.099386</td>\n",
       "      <td>1.712066</td>\n",
       "      <td>0.736146</td>\n",
       "      <td>3.651921</td>\n",
       "      <td>0.407580</td>\n",
       "      <td>0.0</td>\n",
       "      <td>0.0</td>\n",
       "      <td>0.0</td>\n",
       "      <td>0.0</td>\n",
       "      <td>0.0</td>\n",
       "      <td>...</td>\n",
       "      <td>0.0</td>\n",
       "      <td>0.0</td>\n",
       "      <td>0.0</td>\n",
       "      <td>0.0</td>\n",
       "      <td>0.0</td>\n",
       "      <td>1.0</td>\n",
       "      <td>0.0</td>\n",
       "      <td>0.0</td>\n",
       "      <td>0.0</td>\n",
       "      <td>0.0</td>\n",
       "    </tr>\n",
       "    <tr>\n",
       "      <th>1</th>\n",
       "      <td>1.864105</td>\n",
       "      <td>-1.988405</td>\n",
       "      <td>-0.400442</td>\n",
       "      <td>0.761958</td>\n",
       "      <td>-1.978535</td>\n",
       "      <td>0.0</td>\n",
       "      <td>0.0</td>\n",
       "      <td>0.0</td>\n",
       "      <td>0.0</td>\n",
       "      <td>0.0</td>\n",
       "      <td>...</td>\n",
       "      <td>0.0</td>\n",
       "      <td>0.0</td>\n",
       "      <td>0.0</td>\n",
       "      <td>0.0</td>\n",
       "      <td>0.0</td>\n",
       "      <td>0.0</td>\n",
       "      <td>1.0</td>\n",
       "      <td>0.0</td>\n",
       "      <td>0.0</td>\n",
       "      <td>0.0</td>\n",
       "    </tr>\n",
       "  </tbody>\n",
       "</table>\n",
       "<p>2 rows × 24 columns</p>\n",
       "</div>"
      ],
      "text/plain": [
       "         0         1         2         3         4    0    1    2    3    4   \\\n",
       "0 -3.099386  1.712066  0.736146  3.651921  0.407580  0.0  0.0  0.0  0.0  0.0   \n",
       "1  1.864105 -1.988405 -0.400442  0.761958 -1.978535  0.0  0.0  0.0  0.0  0.0   \n",
       "\n",
       "   ...   9    10   11   12   13   14   15   16   17   18  \n",
       "0  ...  0.0  0.0  0.0  0.0  0.0  1.0  0.0  0.0  0.0  0.0  \n",
       "1  ...  0.0  0.0  0.0  0.0  0.0  0.0  1.0  0.0  0.0  0.0  \n",
       "\n",
       "[2 rows x 24 columns]"
      ]
     },
     "execution_count": 46,
     "metadata": {},
     "output_type": "execute_result"
    }
   ],
   "source": [
    "oh_genre_t = pd.DataFrame(oh.transform(data_test[[\"genre\"]]).toarray())\n",
    "data_test = pd.concat([data_test.reset_index(drop=True), pd.DataFrame(oh_genre_t)], axis='columns')\n",
    "data_test.drop(columns='genre',inplace=True)\n",
    "data_test.head(2)"
   ]
  },
  {
   "cell_type": "code",
   "execution_count": 47,
   "id": "11e5b96f",
   "metadata": {
    "scrolled": true
   },
   "outputs": [
    {
     "data": {
      "text/plain": [
       "pandas.core.frame.DataFrame"
      ]
     },
     "execution_count": 47,
     "metadata": {},
     "output_type": "execute_result"
    }
   ],
   "source": [
    "type(data_test)"
   ]
  },
  {
   "cell_type": "markdown",
   "id": "a5854058",
   "metadata": {},
   "source": [
    "<h3> Tested the Linear Regression Model(clf) and Random Forest regression model(rf) on the test data and made predictions"
   ]
  },
  {
   "cell_type": "code",
   "execution_count": 48,
   "id": "25d326d3",
   "metadata": {
    "scrolled": false
   },
   "outputs": [
    {
     "data": {
      "text/plain": [
       "array([[62.13927911],\n",
       "       [64.21134681],\n",
       "       [64.45312869],\n",
       "       [59.6855252 ],\n",
       "       [52.45644648],\n",
       "       [62.94496754],\n",
       "       [57.20119214],\n",
       "       [46.59189152],\n",
       "       [61.8782489 ],\n",
       "       [67.01954615],\n",
       "       [52.94566069],\n",
       "       [68.17467996],\n",
       "       [54.53304378],\n",
       "       [58.73518449],\n",
       "       [67.73954217],\n",
       "       [66.32472257],\n",
       "       [58.72000096],\n",
       "       [62.30355731],\n",
       "       [63.66572526],\n",
       "       [62.59631399],\n",
       "       [55.25008436],\n",
       "       [57.64095375],\n",
       "       [51.39801221],\n",
       "       [48.65205995],\n",
       "       [52.56844985],\n",
       "       [67.44359402],\n",
       "       [62.72670326],\n",
       "       [58.36018557],\n",
       "       [51.16038255],\n",
       "       [65.53002173],\n",
       "       [67.60110649],\n",
       "       [52.37564425],\n",
       "       [66.50712759],\n",
       "       [64.77252925],\n",
       "       [65.01636227],\n",
       "       [65.21719754],\n",
       "       [63.03725103],\n",
       "       [54.48000872],\n",
       "       [60.90090352],\n",
       "       [64.81227643],\n",
       "       [62.75899225],\n",
       "       [65.23144836],\n",
       "       [66.28790204],\n",
       "       [53.79534808],\n",
       "       [56.10195574],\n",
       "       [59.65172399],\n",
       "       [66.56468951],\n",
       "       [70.74236022],\n",
       "       [58.93780266],\n",
       "       [65.56944696],\n",
       "       [57.16057843],\n",
       "       [68.59299449],\n",
       "       [60.57883994],\n",
       "       [44.03260218],\n",
       "       [52.72403821],\n",
       "       [56.198588  ],\n",
       "       [68.39166195],\n",
       "       [52.763972  ],\n",
       "       [64.99257637],\n",
       "       [47.58665396],\n",
       "       [62.3574247 ],\n",
       "       [60.27843913],\n",
       "       [60.37872138],\n",
       "       [63.09245879],\n",
       "       [63.61966457],\n",
       "       [62.28438314],\n",
       "       [64.43911232],\n",
       "       [53.9144938 ],\n",
       "       [61.17763693],\n",
       "       [63.69630546],\n",
       "       [62.79832328],\n",
       "       [46.57481889],\n",
       "       [53.14414925],\n",
       "       [62.0803396 ],\n",
       "       [53.49041466],\n",
       "       [69.17453755],\n",
       "       [65.30478086],\n",
       "       [60.87833895],\n",
       "       [58.06303872],\n",
       "       [57.74108216],\n",
       "       [62.19419104],\n",
       "       [63.99014023],\n",
       "       [37.17395093],\n",
       "       [71.61989128],\n",
       "       [51.40915714],\n",
       "       [58.14259998],\n",
       "       [60.86766822],\n",
       "       [65.77742248],\n",
       "       [52.61980789],\n",
       "       [60.629393  ],\n",
       "       [45.63140648],\n",
       "       [66.34334673],\n",
       "       [64.02554787],\n",
       "       [64.08608126],\n",
       "       [59.75486687],\n",
       "       [64.58071587],\n",
       "       [58.74728391],\n",
       "       [56.52343916],\n",
       "       [61.47036538],\n",
       "       [50.13243022],\n",
       "       [59.19000134],\n",
       "       [62.90048643],\n",
       "       [65.08951838],\n",
       "       [43.81535878],\n",
       "       [51.30247888],\n",
       "       [72.11393681],\n",
       "       [64.79616663],\n",
       "       [58.94780401],\n",
       "       [51.17811288],\n",
       "       [63.42738546],\n",
       "       [63.17193763],\n",
       "       [67.21222571],\n",
       "       [66.68651875],\n",
       "       [62.03195074]])"
      ]
     },
     "execution_count": 48,
     "metadata": {},
     "output_type": "execute_result"
    }
   ],
   "source": [
    "spotify_pred = clf.predict(data_test)\n",
    "spotify_pred"
   ]
  },
  {
   "cell_type": "code",
   "execution_count": 49,
   "id": "c51f8993",
   "metadata": {},
   "outputs": [
    {
     "data": {
      "text/plain": [
       "array([61.133, 64.789, 64.959, 63.731, 44.438, 64.554, 64.725, 41.163,\n",
       "       66.329, 63.266, 43.555, 66.489, 52.171, 62.097, 60.988, 63.361,\n",
       "       63.557, 64.617, 69.353, 64.507, 61.838, 58.15 , 52.42 , 51.24 ,\n",
       "       46.83 , 64.974, 65.111, 62.364, 40.973, 69.634, 71.339, 47.029,\n",
       "       69.648, 68.037, 65.152, 66.42 , 69.47 , 60.851, 65.115, 64.505,\n",
       "       67.304, 65.664, 66.46 , 41.422, 65.352, 56.2  , 67.889, 64.745,\n",
       "       65.373, 62.481, 48.993, 67.332, 66.391, 51.736, 60.998, 64.298,\n",
       "       68.009, 55.584, 68.746, 50.981, 62.858, 66.335, 61.473, 65.103,\n",
       "       65.597, 65.549, 61.696, 61.875, 64.565, 64.726, 67.603, 42.713,\n",
       "       54.902, 69.493, 63.633, 70.849, 68.404, 55.596, 68.98 , 54.402,\n",
       "       63.637, 61.74 , 44.356, 66.42 , 48.415, 63.271, 68.717, 64.055,\n",
       "       43.038, 65.661, 37.588, 64.532, 64.324, 63.413, 63.274, 68.374,\n",
       "       63.515, 59.078, 64.462, 43.709, 53.539, 64.248, 65.181, 43.85 ,\n",
       "       39.255, 66.27 , 61.604, 64.607, 54.449, 60.194, 61.72 , 67.1  ,\n",
       "       64.22 , 62.621])"
      ]
     },
     "execution_count": 49,
     "metadata": {},
     "output_type": "execute_result"
    }
   ],
   "source": [
    "spotify_pred = rf.predict(data_test)\n",
    "spotify_pred"
   ]
  },
  {
   "cell_type": "code",
   "execution_count": 50,
   "id": "052c1c61",
   "metadata": {},
   "outputs": [
    {
     "data": {
      "text/plain": [
       "114"
      ]
     },
     "execution_count": 50,
     "metadata": {},
     "output_type": "execute_result"
    }
   ],
   "source": [
    "data_sub = pd.read_csv(\"CS98XRegressionTest.csv\")\n",
    "spotify_submit = pd.DataFrame([data_sub.loc[:,\"Id\"]]).T\n",
    "spotify_submit.size"
   ]
  },
  {
   "cell_type": "code",
   "execution_count": 51,
   "id": "9c689fb9",
   "metadata": {
    "scrolled": true
   },
   "outputs": [
    {
     "data": {
      "text/plain": [
       "<bound method NDFrame.head of       Id  pop\n",
       "0    454   61\n",
       "1    455   65\n",
       "2    456   65\n",
       "3    457   64\n",
       "4    458   44\n",
       "..   ...  ...\n",
       "109  563   60\n",
       "110  564   62\n",
       "111  565   67\n",
       "112  566   64\n",
       "113  567   63\n",
       "\n",
       "[114 rows x 2 columns]>"
      ]
     },
     "execution_count": 51,
     "metadata": {},
     "output_type": "execute_result"
    }
   ],
   "source": [
    "spotify_submit['pop'] = pd.DataFrame(spotify_pred.round().astype(int))\n",
    "spotify_submit.to_csv('spotify_submit_preds_rf.csv',index=False)\n",
    "spotify_submit.head"
   ]
  },
  {
   "cell_type": "code",
   "execution_count": 52,
   "id": "0392a65c",
   "metadata": {},
   "outputs": [
    {
     "data": {
      "text/plain": [
       "<AxesSubplot:>"
      ]
     },
     "execution_count": 52,
     "metadata": {},
     "output_type": "execute_result"
    },
    {
     "data": {
      "image/png": "[encoded data removed]",
      "text/plain": [
       "<Figure size 432x288 with 1 Axes>"
      ]
     },
     "metadata": {
      "needs_background": "light"
     },
     "output_type": "display_data"
    }
   ],
   "source": [
    "#bar plot for test data columns\n",
    "\n",
    "feat_importances = pd.Series(rf.feature_importances_, index=data_test.columns)\n",
    "feat_importances.nlargest(12).plot(kind='barh')"
   ]
  },
  {
   "cell_type": "markdown",
   "id": "82414595",
   "metadata": {},
   "source": [
    "# Conclusion"
   ]
  },
  {
   "cell_type": "markdown",
   "id": "ac49449c",
   "metadata": {},
   "source": [
    "Based on the metrics scores Random Forest Regressor performed well in predicting the label value that is popularity, other machine learning algorithms as well as hyper-parameter tuning was also done to improve the model robustness. The resultant popularity scores were converted into a csv file to cross reference with fifty percent test data in kaggle. The public score in kaggle is 6.84028 which is based on the 50% data available for comparison in kaggle. This seems to be a very good score for a dataset with categorical features and limited number of rows(453 rows). Further methods should be explored to improve the accuracy."
   ]
  }
 ],
 "metadata": {
  "kernelspec": {
   "display_name": "Python 3 (ipykernel)",
   "language": "python",
   "name": "python3"
  },
  "language_info": {
   "codemirror_mode": {
    "name": "ipython",
    "version": 3
   },
   "file_extension": ".py",
   "mimetype": "text/x-python",
   "name": "python",
   "nbconvert_exporter": "python",
   "pygments_lexer": "ipython3",
   "version": "3.9.12"
  },
  "toc": {
   "base_numbering": 1,
   "nav_menu": {},
   "number_sections": false,
   "sideBar": false,
   "skip_h1_title": false,
   "title_cell": "Table of Contents",
   "title_sidebar": "Contents",
   "toc_cell": false,
   "toc_position": {},
   "toc_section_display": false,
   "toc_window_display": false
  }
 },
 "nbformat": 4,
 "nbformat_minor": 5
}
